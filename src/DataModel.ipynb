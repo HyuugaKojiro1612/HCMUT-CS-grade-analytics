{
  "cells": [
    {
      "cell_type": "code",
      "execution_count": 1,
      "metadata": {
        "colab": {
          "base_uri": "https://localhost:8080/"
        },
        "id": "7A7i9wWEzipn",
        "outputId": "e25aff40-20bf-4377-b146-b0ca08f40d1e"
      },
      "outputs": [
        {
          "name": "stdout",
          "output_type": "stream",
          "text": [
            "Looking in indexes: https://pypi.org/simple, https://us-python.pkg.dev/colab-wheels/public/simple/\n",
            "Collecting pyspark\n",
            "  Downloading pyspark-3.4.0.tar.gz (310.8 MB)\n",
            "\u001b[2K     \u001b[90m━━━━━━━━━━━━━━━━━━━━━━━━━━━━━━━━━━━━━━━\u001b[0m \u001b[32m310.8/310.8 MB\u001b[0m \u001b[31m3.5 MB/s\u001b[0m eta \u001b[36m0:00:00\u001b[0m\n",
            "\u001b[?25h  Preparing metadata (setup.py) ... \u001b[?25l\u001b[?25hdone\n",
            "Requirement already satisfied: py4j==0.10.9.7 in /usr/local/lib/python3.10/dist-packages (from pyspark) (0.10.9.7)\n",
            "Building wheels for collected packages: pyspark\n",
            "  Building wheel for pyspark (setup.py) ... \u001b[?25l\u001b[?25hdone\n",
            "  Created wheel for pyspark: filename=pyspark-3.4.0-py2.py3-none-any.whl size=311317130 sha256=e7fc0aa749313a3ded6d38f4b216eb68ca46f2a8eee55ded74a7db99120c0a0a\n",
            "  Stored in directory: /root/.cache/pip/wheels/7b/1b/4b/3363a1d04368e7ff0d408e57ff57966fcdf00583774e761327\n",
            "Successfully built pyspark\n",
            "Installing collected packages: pyspark\n",
            "Successfully installed pyspark-3.4.0\n"
          ]
        }
      ],
      "source": [
        "!pip install pyspark"
      ]
    },
    {
      "cell_type": "code",
      "execution_count": 2,
      "metadata": {
        "id": "7WKdzYQPz390"
      },
      "outputs": [],
      "source": [
        "import pyspark\n",
        "from pyspark.sql import SparkSession"
      ]
    },
    {
      "cell_type": "code",
      "execution_count": 4,
      "metadata": {
        "id": "Ri-RuqC-z4IQ"
      },
      "outputs": [],
      "source": [
        "spark = SparkSession.builder.master(\"local\").appName(\"Practices\").getOrCreate()"
      ]
    },
    {
      "cell_type": "code",
      "execution_count": 5,
      "metadata": {
        "colab": {
          "base_uri": "https://localhost:8080/",
          "height": 219
        },
        "id": "kZgpNJmmz4LI",
        "outputId": "65ad80d3-8e60-408e-b47c-70adb09592a3"
      },
      "outputs": [
        {
          "data": {
            "text/html": [
              "\n",
              "            <div>\n",
              "                <p><b>SparkSession - in-memory</b></p>\n",
              "                \n",
              "        <div>\n",
              "            <p><b>SparkContext</b></p>\n",
              "\n",
              "            <p><a href=\"http://20590cb7ba99:4040\">Spark UI</a></p>\n",
              "\n",
              "            <dl>\n",
              "              <dt>Version</dt>\n",
              "                <dd><code>v3.4.0</code></dd>\n",
              "              <dt>Master</dt>\n",
              "                <dd><code>local</code></dd>\n",
              "              <dt>AppName</dt>\n",
              "                <dd><code>Practices</code></dd>\n",
              "            </dl>\n",
              "        </div>\n",
              "        \n",
              "            </div>\n",
              "        "
            ],
            "text/plain": [
              "<pyspark.sql.session.SparkSession at 0x7fcde1c240d0>"
            ]
          },
          "execution_count": 5,
          "metadata": {},
          "output_type": "execute_result"
        }
      ],
      "source": [
        "spark"
      ]
    },
    {
      "cell_type": "code",
      "execution_count": 6,
      "metadata": {
        "colab": {
          "base_uri": "https://localhost:8080/"
        },
        "id": "u2KA43o8z4Rj",
        "outputId": "1be07c0b-e19c-4e40-ca7e-cfbc1f44ff0f"
      },
      "outputs": [
        {
          "name": "stdout",
          "output_type": "stream",
          "text": [
            "root\n",
            " |-- MSSV: integer (nullable = true)\n",
            " |-- NMDT: double (nullable = true)\n",
            " |-- CTRR: double (nullable = true)\n",
            " |-- HTS: double (nullable = true)\n",
            " |-- KTLT: double (nullable = true)\n",
            " |-- CTDLGT: double (nullable = true)\n",
            " |-- KTMT: double (nullable = true)\n",
            " |-- LTHDT: double (nullable = true)\n",
            " |-- MHH: double (nullable = true)\n",
            " |-- HCSDL: double (nullable = true)\n",
            " |-- HDH: double (nullable = true)\n",
            " |-- NMTTNT: integer (nullable = true)\n",
            " |-- DHMT: integer (nullable = true)\n",
            " |-- MMANM: integer (nullable = true)\n",
            "\n"
          ]
        }
      ],
      "source": [
        "df = spark.read.csv('input.csv', inferSchema = True, header = True)\n",
        "df.printSchema()"
      ]
    },
    {
      "attachments": {},
      "cell_type": "markdown",
      "metadata": {
        "id": "GW3BeJ-rwqFC"
      },
      "source": [
        "### Decision Tree Classifier - PySpark Implementation"
      ]
    },
    {
      "cell_type": "code",
      "execution_count": 7,
      "metadata": {
        "id": "0bCg1gs4z4UT"
      },
      "outputs": [],
      "source": [
        "from pyspark.ml.feature import VectorAssembler"
      ]
    },
    {
      "cell_type": "code",
      "execution_count": 8,
      "metadata": {
        "colab": {
          "base_uri": "https://localhost:8080/"
        },
        "id": "tRNxDdt4z4XV",
        "outputId": "30a10687-8f0d-4add-dfcb-9ce7b488e22f"
      },
      "outputs": [
        {
          "data": {
            "text/plain": [
              "['MSSV',\n",
              " 'NMDT',\n",
              " 'CTRR',\n",
              " 'HTS',\n",
              " 'KTLT',\n",
              " 'CTDLGT',\n",
              " 'KTMT',\n",
              " 'LTHDT',\n",
              " 'MHH',\n",
              " 'HCSDL',\n",
              " 'HDH',\n",
              " 'NMTTNT',\n",
              " 'DHMT',\n",
              " 'MMANM']"
            ]
          },
          "execution_count": 8,
          "metadata": {},
          "output_type": "execute_result"
        }
      ],
      "source": [
        "df.columns"
      ]
    },
    {
      "attachments": {},
      "cell_type": "markdown",
      "metadata": {
        "id": "WUBKW43MwqFF"
      },
      "source": [
        "After loading the data, we will perform some further data processing before we train our Decision Tree algorithm:\n",
        "- Transformer — create a new “features” column that store all data features as an array\n",
        "- Data Split — split the data into 80% training data and 20% testing data"
      ]
    },
    {
      "cell_type": "code",
      "execution_count": 9,
      "metadata": {
        "colab": {
          "base_uri": "https://localhost:8080/"
        },
        "id": "hcOnqWgNz4jM",
        "outputId": "36644b8a-fa55-486a-d0ba-933aaec800c6"
      },
      "outputs": [
        {
          "name": "stdout",
          "output_type": "stream",
          "text": [
            "+-------+----+----+---+----+------+----+-----+----+-----+---+------+----+-----+-------------------------------------------+\n",
            "|MSSV   |NMDT|CTRR|HTS|KTLT|CTDLGT|KTMT|LTHDT|MHH |HCSDL|HDH|NMTTNT|DHMT|MMANM|features                                   |\n",
            "+-------+----+----+---+----+------+----+-----+----+-----+---+------+----+-----+-------------------------------------------+\n",
            "|75321  |6.5 |6.5 |5.0|6.0 |5.5   |6.5 |7.5  |7.0 |8.0  |6.5|1     |0   |1    |[6.5,6.5,5.0,6.0,5.5,6.5,7.5,7.0,8.0,6.5]  |\n",
            "|81657  |7.5 |7.0 |5.5|7.0 |7.0   |7.5 |7.5  |6.0 |7.5  |7.5|1     |0   |0    |[7.5,7.0,5.5,7.0,7.0,7.5,7.5,6.0,7.5,7.5]  |\n",
            "|209312 |7.0 |6.5 |5.5|7.5 |4.5   |7.0 |0.0  |7.0 |6.0  |8.0|1     |1   |0    |[7.0,6.5,5.5,7.5,4.5,7.0,0.0,7.0,6.0,8.0]  |\n",
            "|583833 |6.5 |7.0 |6.0|5.5 |6.5   |7.0 |8.0  |7.0 |6.0  |7.0|1     |1   |1    |[6.5,7.0,6.0,5.5,6.5,7.0,8.0,7.0,6.0,7.0]  |\n",
            "|1509861|7.5 |5.0 |5.0|9.0 |3.5   |6.5 |6.0  |7.0 |7.5  |6.5|0     |0   |0    |[7.5,5.0,5.0,9.0,3.5,6.5,6.0,7.0,7.5,6.5]  |\n",
            "|2047807|6.5 |6.5 |7.5|9.5 |8.5   |6.5 |8.5  |7.5 |8.5  |8.5|1     |1   |0    |[6.5,6.5,7.5,9.5,8.5,6.5,8.5,7.5,8.5,8.5]  |\n",
            "|2223555|9.0 |8.0 |9.5|10.0|9.0   |8.0 |8.0  |10.0|8.0  |8.5|0     |0   |0    |[9.0,8.0,9.5,10.0,9.0,8.0,8.0,10.0,8.0,8.5]|\n",
            "|2240989|8.5 |7.0 |7.0|7.0 |6.0   |8.0 |7.0  |6.5 |7.5  |8.0|0     |0   |0    |[8.5,7.0,7.0,7.0,6.0,8.0,7.0,6.5,7.5,8.0]  |\n",
            "|2260878|7.5 |8.5 |8.5|10.0|8.5   |8.0 |8.0  |8.5 |0.0  |9.0|0     |0   |0    |[7.5,8.5,8.5,10.0,8.5,8.0,8.0,8.5,0.0,9.0] |\n",
            "|2274996|5.5 |7.0 |7.0|7.5 |7.5   |6.0 |8.0  |7.0 |7.5  |7.5|1     |1   |1    |[5.5,7.0,7.0,7.5,7.5,6.0,8.0,7.0,7.5,7.5]  |\n",
            "|2343848|8.0 |7.0 |6.0|7.5 |5.0   |7.0 |6.5  |6.5 |0.0  |5.5|0     |0   |0    |[8.0,7.0,6.0,7.5,5.0,7.0,6.5,6.5,0.0,5.5]  |\n",
            "|2683782|7.5 |8.0 |6.5|9.0 |8.5   |7.5 |7.0  |8.5 |8.0  |7.0|0     |1   |0    |[7.5,8.0,6.5,9.0,8.5,7.5,7.0,8.5,8.0,7.0]  |\n",
            "|3095962|7.0 |6.5 |6.0|6.5 |7.5   |6.0 |7.5  |5.5 |7.5  |6.5|1     |1   |0    |[7.0,6.5,6.0,6.5,7.5,6.0,7.5,5.5,7.5,6.5]  |\n",
            "|3419145|7.5 |6.5 |5.0|6.0 |1.0   |5.0 |7.0  |6.0 |6.0  |7.0|0     |0   |0    |[7.5,6.5,5.0,6.0,1.0,5.0,7.0,6.0,6.0,7.0]  |\n",
            "|3546806|8.5 |7.5 |7.0|7.0 |6.5   |7.0 |7.5  |7.0 |7.0  |7.0|0     |0   |0    |[8.5,7.5,7.0,7.0,6.5,7.0,7.5,7.0,7.0,7.0]  |\n",
            "|4045426|8.5 |8.5 |6.0|8.0 |7.5   |8.5 |9.0  |8.5 |7.5  |8.5|0     |1   |0    |[8.5,8.5,6.0,8.0,7.5,8.5,9.0,8.5,7.5,8.5]  |\n",
            "|4536867|8.0 |8.0 |9.0|7.5 |9.0   |9.5 |9.5  |9.5 |9.0  |9.5|0     |1   |1    |[8.0,8.0,9.0,7.5,9.0,9.5,9.5,9.5,9.0,9.5]  |\n",
            "|4650139|8.5 |8.0 |8.5|10.0|9.5   |8.5 |8.5  |8.5 |8.5  |9.0|0     |0   |0    |[8.5,8.0,8.5,10.0,9.5,8.5,8.5,8.5,8.5,9.0] |\n",
            "|5665575|5.5 |5.5 |5.0|6.0 |6.5   |6.0 |6.5  |6.5 |7.0  |8.0|1     |1   |0    |[5.5,5.5,5.0,6.0,6.5,6.0,6.5,6.5,7.0,8.0]  |\n",
            "|5763862|7.0 |6.0 |8.0|6.0 |7.5   |7.0 |6.5  |8.5 |7.5  |8.5|0     |0   |1    |[7.0,6.0,8.0,6.0,7.5,7.0,6.5,8.5,7.5,8.5]  |\n",
            "+-------+----+----+---+----+------+----+-----+----+-----+---+------+----+-----+-------------------------------------------+\n",
            "only showing top 20 rows\n",
            "\n"
          ]
        }
      ],
      "source": [
        "assembler = VectorAssembler(inputCols = ['NMDT','CTRR','HTS','KTLT','CTDLGT','KTMT','LTHDT','MHH','HCSDL','HDH'],\n",
        "                           outputCol = 'features')\n",
        "output = assembler.transform(df)\n",
        "output.show(truncate = False)"
      ]
    },
    {
      "cell_type": "code",
      "execution_count": 10,
      "metadata": {
        "colab": {
          "base_uri": "https://localhost:8080/"
        },
        "id": "RcJ3Gm76z4qo",
        "outputId": "d18f5bb2-5f5c-4422-fc42-5e6c28c796de"
      },
      "outputs": [
        {
          "name": "stdout",
          "output_type": "stream",
          "text": [
            "+-------------------------------------------+------+----+-----+\n",
            "|features                                   |NMTTNT|DHMT|MMANM|\n",
            "+-------------------------------------------+------+----+-----+\n",
            "|[6.5,6.5,5.0,6.0,5.5,6.5,7.5,7.0,8.0,6.5]  |1     |0   |1    |\n",
            "|[7.5,7.0,5.5,7.0,7.0,7.5,7.5,6.0,7.5,7.5]  |1     |0   |0    |\n",
            "|[7.0,6.5,5.5,7.5,4.5,7.0,0.0,7.0,6.0,8.0]  |1     |1   |0    |\n",
            "|[6.5,7.0,6.0,5.5,6.5,7.0,8.0,7.0,6.0,7.0]  |1     |1   |1    |\n",
            "|[7.5,5.0,5.0,9.0,3.5,6.5,6.0,7.0,7.5,6.5]  |0     |0   |0    |\n",
            "|[6.5,6.5,7.5,9.5,8.5,6.5,8.5,7.5,8.5,8.5]  |1     |1   |0    |\n",
            "|[9.0,8.0,9.5,10.0,9.0,8.0,8.0,10.0,8.0,8.5]|0     |0   |0    |\n",
            "|[8.5,7.0,7.0,7.0,6.0,8.0,7.0,6.5,7.5,8.0]  |0     |0   |0    |\n",
            "|[7.5,8.5,8.5,10.0,8.5,8.0,8.0,8.5,0.0,9.0] |0     |0   |0    |\n",
            "|[5.5,7.0,7.0,7.5,7.5,6.0,8.0,7.0,7.5,7.5]  |1     |1   |1    |\n",
            "|[8.0,7.0,6.0,7.5,5.0,7.0,6.5,6.5,0.0,5.5]  |0     |0   |0    |\n",
            "|[7.5,8.0,6.5,9.0,8.5,7.5,7.0,8.5,8.0,7.0]  |0     |1   |0    |\n",
            "|[7.0,6.5,6.0,6.5,7.5,6.0,7.5,5.5,7.5,6.5]  |1     |1   |0    |\n",
            "|[7.5,6.5,5.0,6.0,1.0,5.0,7.0,6.0,6.0,7.0]  |0     |0   |0    |\n",
            "|[8.5,7.5,7.0,7.0,6.5,7.0,7.5,7.0,7.0,7.0]  |0     |0   |0    |\n",
            "|[8.5,8.5,6.0,8.0,7.5,8.5,9.0,8.5,7.5,8.5]  |0     |1   |0    |\n",
            "|[8.0,8.0,9.0,7.5,9.0,9.5,9.5,9.5,9.0,9.5]  |0     |1   |1    |\n",
            "|[8.5,8.0,8.5,10.0,9.5,8.5,8.5,8.5,8.5,9.0] |0     |0   |0    |\n",
            "|[5.5,5.5,5.0,6.0,6.5,6.0,6.5,6.5,7.0,8.0]  |1     |1   |0    |\n",
            "|[7.0,6.0,8.0,6.0,7.5,7.0,6.5,8.5,7.5,8.5]  |0     |0   |1    |\n",
            "+-------------------------------------------+------+----+-----+\n",
            "only showing top 20 rows\n",
            "\n"
          ]
        }
      ],
      "source": [
        "output.select('features','NMTTNT','DHMT','MMANM').show(truncate = False)"
      ]
    },
    {
      "cell_type": "code",
      "execution_count": 27,
      "metadata": {
        "colab": {
          "base_uri": "https://localhost:8080/"
        },
        "id": "QYYq-Srm02MB",
        "outputId": "0d152eb8-becc-41e6-d831-8c8ff911cba9"
      },
      "outputs": [
        {
          "name": "stdout",
          "output_type": "stream",
          "text": [
            "286 73\n"
          ]
        }
      ],
      "source": [
        "model_df = output.select('features', 'NMTTNT', 'DHMT', 'MMANM')\n",
        "train_df, test_df = model_df.randomSplit([0.8,0.2])\n",
        "print(train_df.count(), test_df.count())"
      ]
    },
    {
      "cell_type": "code",
      "execution_count": 15,
      "metadata": {
        "id": "2l6DdyKM02ig"
      },
      "outputs": [],
      "source": [
        "from pyspark.ml.classification import DecisionTreeClassifier\n",
        "from pyspark.ml.evaluation import MulticlassClassificationEvaluator"
      ]
    },
    {
      "attachments": {},
      "cell_type": "markdown",
      "metadata": {},
      "source": [
        "Once the data has been processed, we can train our Decision Tree classifier using the `pyspark.ml.classification` library on our training data. Then, we can use our testing data to make predictions, and `pyspark.ml.evaluation` library to get the accuracy and precision of our classifier."
      ]
    },
    {
      "cell_type": "code",
      "execution_count": 28,
      "metadata": {
        "id": "W4daM6Nf02pd"
      },
      "outputs": [],
      "source": [
        "def courseClassifier(course_name):\n",
        "    # train the model (df_classifier) using training data\n",
        "    df_classifier = DecisionTreeClassifier(labelCol=course_name).fit(train_df)\n",
        "    \n",
        "    # test the model and make predictions using test data\n",
        "    df_predict = df_classifier.transform(test_df)\n",
        "    df_predict.select(course_name, 'prediction').show()\n",
        "    \n",
        "    df_accuracy = MulticlassClassificationEvaluator(labelCol=course_name,\n",
        "                                               metricName='accuracy').evaluate(df_predict)\n",
        "    df_precision = MulticlassClassificationEvaluator(labelCol=course_name,\n",
        "                                                metricName='weightedPrecision').evaluate(df_predict)\n",
        "    \n",
        "    print(\"Accuracy: \", df_accuracy)\n",
        "    print(\"Precision: \", df_precision)\n",
        "    return df_classifier"
      ]
    },
    {
      "cell_type": "code",
      "execution_count": 33,
      "metadata": {
        "colab": {
          "base_uri": "https://localhost:8080/"
        },
        "id": "Hq2VkRiQ1S5w",
        "outputId": "d73ae80c-fd64-4aa3-e2f5-be6e5bccafb5"
      },
      "outputs": [
        {
          "name": "stdout",
          "output_type": "stream",
          "text": [
            "+------+----------+\n",
            "|NMTTNT|prediction|\n",
            "+------+----------+\n",
            "|     0|       0.0|\n",
            "|     1|       1.0|\n",
            "|     0|       0.0|\n",
            "|     1|       1.0|\n",
            "|     0|       1.0|\n",
            "|     1|       1.0|\n",
            "|     1|       1.0|\n",
            "|     1|       1.0|\n",
            "|     1|       1.0|\n",
            "|     1|       1.0|\n",
            "|     1|       1.0|\n",
            "|     1|       1.0|\n",
            "|     1|       1.0|\n",
            "|     1|       0.0|\n",
            "|     0|       1.0|\n",
            "|     1|       1.0|\n",
            "|     1|       1.0|\n",
            "|     1|       1.0|\n",
            "|     1|       1.0|\n",
            "|     1|       1.0|\n",
            "+------+----------+\n",
            "only showing top 20 rows\n",
            "\n",
            "Accuracy:  0.8356164383561644\n",
            "Precision:  0.8348540798094104\n"
          ]
        },
        {
          "data": {
            "text/plain": [
              "SparseVector(10, {0: 0.4723, 1: 0.1324, 2: 0.0964, 3: 0.0661, 4: 0.0938, 5: 0.0782, 6: 0.0319, 7: 0.0289})"
            ]
          },
          "execution_count": 33,
          "metadata": {},
          "output_type": "execute_result"
        }
      ],
      "source": [
        "NMTTNT_classifier = courseClassifier('NMTTNT')\n",
        "NMTTNT_classifier.featureImportances"
      ]
    },
    {
      "cell_type": "code",
      "execution_count": 34,
      "metadata": {
        "colab": {
          "base_uri": "https://localhost:8080/"
        },
        "id": "X4gdm0TG1S8N",
        "outputId": "b0b2688c-1048-4456-bf57-d5536ce9f2bb"
      },
      "outputs": [
        {
          "name": "stdout",
          "output_type": "stream",
          "text": [
            "+----+----------+\n",
            "|DHMT|prediction|\n",
            "+----+----------+\n",
            "|   0|       0.0|\n",
            "|   1|       1.0|\n",
            "|   0|       0.0|\n",
            "|   0|       1.0|\n",
            "|   0|       0.0|\n",
            "|   1|       0.0|\n",
            "|   0|       1.0|\n",
            "|   1|       1.0|\n",
            "|   0|       1.0|\n",
            "|   1|       1.0|\n",
            "|   1|       1.0|\n",
            "|   0|       1.0|\n",
            "|   0|       1.0|\n",
            "|   1|       1.0|\n",
            "|   1|       1.0|\n",
            "|   1|       1.0|\n",
            "|   1|       1.0|\n",
            "|   1|       1.0|\n",
            "|   0|       0.0|\n",
            "|   1|       1.0|\n",
            "+----+----------+\n",
            "only showing top 20 rows\n",
            "\n",
            "Accuracy:  0.8082191780821918\n",
            "Precision:  0.8036262650538064\n"
          ]
        },
        {
          "data": {
            "text/plain": [
              "SparseVector(10, {0: 0.2865, 1: 0.0326, 2: 0.1655, 3: 0.0668, 4: 0.1058, 5: 0.0921, 6: 0.2036, 9: 0.0471})"
            ]
          },
          "execution_count": 34,
          "metadata": {},
          "output_type": "execute_result"
        }
      ],
      "source": [
        "DHMT_classifier = courseClassifier('DHMT')\n",
        "DHMT_classifier.featureImportances"
      ]
    },
    {
      "cell_type": "code",
      "execution_count": 35,
      "metadata": {
        "colab": {
          "base_uri": "https://localhost:8080/"
        },
        "id": "QMqOfEHC1S_g",
        "outputId": "d728dfb5-5ceb-4fc7-944e-13661b3e6717"
      },
      "outputs": [
        {
          "name": "stdout",
          "output_type": "stream",
          "text": [
            "+-----+----------+\n",
            "|MMANM|prediction|\n",
            "+-----+----------+\n",
            "|    0|       0.0|\n",
            "|    1|       1.0|\n",
            "|    0|       0.0|\n",
            "|    1|       0.0|\n",
            "|    0|       0.0|\n",
            "|    0|       0.0|\n",
            "|    0|       1.0|\n",
            "|    0|       1.0|\n",
            "|    1|       0.0|\n",
            "|    0|       1.0|\n",
            "|    0|       1.0|\n",
            "|    1|       0.0|\n",
            "|    1|       0.0|\n",
            "|    0|       0.0|\n",
            "|    1|       1.0|\n",
            "|    0|       1.0|\n",
            "|    0|       1.0|\n",
            "|    1|       0.0|\n",
            "|    0|       1.0|\n",
            "|    0|       0.0|\n",
            "+-----+----------+\n",
            "only showing top 20 rows\n",
            "\n",
            "Accuracy:  0.7123287671232876\n",
            "Precision:  0.7207701747985008\n"
          ]
        },
        {
          "data": {
            "text/plain": [
              "SparseVector(10, {0: 0.1483, 1: 0.1193, 3: 0.1918, 4: 0.0859, 5: 0.044, 6: 0.1305, 7: 0.0957, 8: 0.1845})"
            ]
          },
          "execution_count": 35,
          "metadata": {},
          "output_type": "execute_result"
        }
      ],
      "source": [
        "MMAMM_classifier = courseClassifier('MMANM')\n",
        "MMAMM_classifier.featureImportances"
      ]
    },
    {
      "cell_type": "code",
      "execution_count": null,
      "metadata": {
        "id": "QF_ApZT-02qa"
      },
      "outputs": [],
      "source": []
    },
    {
      "cell_type": "code",
      "execution_count": null,
      "metadata": {
        "id": "uUTg9-zHwHzI"
      },
      "outputs": [],
      "source": [
        "# The following code lines only help visualizing DTs."
      ]
    },
    {
      "cell_type": "code",
      "execution_count": 37,
      "metadata": {
        "colab": {
          "base_uri": "https://localhost:8080/",
          "height": 123
        },
        "id": "wXRml_ni4CBl",
        "outputId": "b8012bcf-2198-48c2-c44b-56e7963cbf7a"
      },
      "outputs": [
        {
          "data": {
            "application/vnd.google.colaboratory.intrinsic+json": {
              "type": "string"
            },
            "text/plain": [
              "'DecisionTreeClassificationModel: uid=DecisionTreeClassifier_d046351cd097, depth=5, numNodes=39, numClasses=2, numFeatures=10\\n  If (feature 3 <= 8.25)\\n   If (feature 4 <= 6.75)\\n    If (feature 0 <= 6.25)\\n     Predict: 0.0\\n    Else (feature 0 > 6.25)\\n     If (feature 0 <= 7.25)\\n      If (feature 3 <= 5.25)\\n       Predict: 0.0\\n      Else (feature 3 > 5.25)\\n       Predict: 1.0\\n     Else (feature 0 > 7.25)\\n      Predict: 0.0\\n   Else (feature 4 > 6.75)\\n    If (feature 8 <= 8.25)\\n     If (feature 6 <= 8.25)\\n      If (feature 5 <= 5.75)\\n       Predict: 1.0\\n      Else (feature 5 > 5.75)\\n       Predict: 0.0\\n     Else (feature 6 > 8.25)\\n      If (feature 1 <= 8.25)\\n       Predict: 1.0\\n      Else (feature 1 > 8.25)\\n       Predict: 0.0\\n    Else (feature 8 > 8.25)\\n     If (feature 8 <= 8.75)\\n      If (feature 3 <= 5.75)\\n       Predict: 1.0\\n      Else (feature 3 > 5.75)\\n       Predict: 0.0\\n     Else (feature 8 > 8.75)\\n      If (feature 0 <= 7.75)\\n       Predict: 0.0\\n      Else (feature 0 > 7.75)\\n       Predict: 1.0\\n  Else (feature 3 > 8.25)\\n   If (feature 7 <= 7.75)\\n    If (feature 1 <= 6.75)\\n     If (feature 7 <= 6.25)\\n      Predict: 1.0\\n     Else (feature 7 > 6.25)\\n      Predict: 0.0\\n    Else (feature 1 > 6.75)\\n     If (feature 6 <= 8.25)\\n      If (feature 8 <= 7.75)\\n       Predict: 0.0\\n      Else (feature 8 > 7.75)\\n       Predict: 1.0\\n     Else (feature 6 > 8.25)\\n      Predict: 1.0\\n   Else (feature 7 > 7.75)\\n    If (feature 6 <= 8.75)\\n     Predict: 0.0\\n    Else (feature 6 > 8.75)\\n     If (feature 8 <= 7.75)\\n      Predict: 1.0\\n     Else (feature 8 > 7.75)\\n      Predict: 0.0\\n'"
            ]
          },
          "execution_count": 37,
          "metadata": {},
          "output_type": "execute_result"
        }
      ],
      "source": [
        "MMAMM_classifier.toDebugString"
      ]
    },
    {
      "cell_type": "code",
      "execution_count": 38,
      "metadata": {
        "id": "iLe20M96SqBy"
      },
      "outputs": [],
      "source": [
        "def parse_debug_string_lines(lines):\n",
        "    block = []\n",
        "    while lines:\n",
        "        if lines[0].startswith('If'):\n",
        "            bl = ' '.join(lines.pop(0).split()[1:]).replace('(', '').replace(')', '')\n",
        "            block.append({'name': bl, 'children': parse_debug_string_lines(lines)})\n",
        "\n",
        "            if lines[0].startswith('Else'):\n",
        "                be = ' '.join(lines.pop(0).split()[1:]).replace('(', '').replace(')', '')\n",
        "                block.append({'name': be, 'children': parse_debug_string_lines(lines)})\n",
        "        elif not lines[0].startswith(('If', 'Else')):\n",
        "            block2 = lines.pop(0)\n",
        "            block.append({'name': block2})\n",
        "        else:\n",
        "            break\n",
        "    return block\n",
        "\n",
        "\n",
        "def debug_str_to_json(debug_string):\n",
        "    data = []\n",
        "    for line in debug_string.splitlines():\n",
        "        if line.strip():\n",
        "            line = line.strip()\n",
        "            data.append(line)\n",
        "        else:\n",
        "            break\n",
        "        if not line: break\n",
        "\n",
        "    json = {'name': 'Root', 'children': parse_debug_string_lines(data[1:])}\n",
        "    return json"
      ]
    },
    {
      "cell_type": "code",
      "execution_count": 40,
      "metadata": {
        "colab": {
          "base_uri": "https://localhost:8080/"
        },
        "id": "J37b7FCFaX-D",
        "outputId": "5f44c4ac-9daa-4889-d910-a2e67145347d"
      },
      "outputs": [
        {
          "name": "stdout",
          "output_type": "stream",
          "text": [
            "{0: 'NMDT', 1: 'CTRR', 2: 'HTS', 3: 'KTLT', 4: 'CTDLGT', 5: 'KTMT', 6: 'LTHDT', 7: 'MHH', 8: 'HCSDL', 9: 'HDH'}\n"
          ]
        }
      ],
      "source": [
        "f_type_to_flist_dict = output.schema['features'].metadata[\"ml_attr\"][\"attrs\"]\n",
        "\n",
        "f_index_to_name_dict = {}\n",
        "\n",
        "for f_type, f_list in f_type_to_flist_dict.items():\n",
        "  for f in f_list:\n",
        "    f_index = f['idx']\n",
        "    f_name = f['name']\n",
        "    f_index_to_name_dict[f_index] = f_name\n",
        "\n",
        "\n",
        "\n",
        "\n",
        "print(f_index_to_name_dict)"
      ]
    },
    {
      "cell_type": "code",
      "execution_count": 41,
      "metadata": {
        "colab": {
          "base_uri": "https://localhost:8080/"
        },
        "id": "DX4UOS8hSqK8",
        "outputId": "301e45dc-2521-46c0-a889-e0191bf05a87"
      },
      "outputs": [
        {
          "name": "stdout",
          "output_type": "stream",
          "text": [
            "{\n",
            " \"name\": \"Root\",\n",
            " \"children\": [\n",
            "  {\n",
            "   \"name\": \"feature 0 <= 7.75\",\n",
            "   \"children\": [\n",
            "    {\n",
            "     \"name\": \"feature 0 <= 6.75\",\n",
            "     \"children\": [\n",
            "      {\n",
            "       \"name\": \"feature 2 <= 4.25\",\n",
            "       \"children\": [\n",
            "        {\n",
            "         \"name\": \"feature 0 <= 6.25\",\n",
            "         \"children\": [\n",
            "          {\n",
            "           \"name\": \"Predict: 0.0\"\n",
            "          }\n",
            "         ]\n",
            "        },\n",
            "        {\n",
            "         \"name\": \"feature 0 > 6.25\",\n",
            "         \"children\": [\n",
            "          {\n",
            "           \"name\": \"Predict: 1.0\"\n",
            "          }\n",
            "         ]\n",
            "        }\n",
            "       ]\n",
            "      },\n",
            "      {\n",
            "       \"name\": \"feature 2 > 4.25\",\n",
            "       \"children\": [\n",
            "        {\n",
            "         \"name\": \"feature 7 <= 8.25\",\n",
            "         \"children\": [\n",
            "          {\n",
            "           \"name\": \"Predict: 1.0\"\n",
            "          }\n",
            "         ]\n",
            "        },\n",
            "        {\n",
            "         \"name\": \"feature 7 > 8.25\",\n",
            "         \"children\": [\n",
            "          {\n",
            "           \"name\": \"feature 0 <= 6.25\",\n",
            "           \"children\": [\n",
            "            {\n",
            "             \"name\": \"Predict: 0.0\"\n",
            "            }\n",
            "           ]\n",
            "          },\n",
            "          {\n",
            "           \"name\": \"feature 0 > 6.25\",\n",
            "           \"children\": [\n",
            "            {\n",
            "             \"name\": \"Predict: 1.0\"\n",
            "            }\n",
            "           ]\n",
            "          }\n",
            "         ]\n",
            "        }\n",
            "       ]\n",
            "      }\n",
            "     ]\n",
            "    },\n",
            "    {\n",
            "     \"name\": \"feature 0 > 6.75\",\n",
            "     \"children\": [\n",
            "      {\n",
            "       \"name\": \"feature 1 <= 6.25\",\n",
            "       \"children\": [\n",
            "        {\n",
            "         \"name\": \"feature 5 <= 1.5\",\n",
            "         \"children\": [\n",
            "          {\n",
            "           \"name\": \"Predict: 1.0\"\n",
            "          }\n",
            "         ]\n",
            "        },\n",
            "        {\n",
            "         \"name\": \"feature 5 > 1.5\",\n",
            "         \"children\": [\n",
            "          {\n",
            "           \"name\": \"Predict: 0.0\"\n",
            "          }\n",
            "         ]\n",
            "        }\n",
            "       ]\n",
            "      },\n",
            "      {\n",
            "       \"name\": \"feature 1 > 6.25\",\n",
            "       \"children\": [\n",
            "        {\n",
            "         \"name\": \"feature 3 <= 7.75\",\n",
            "         \"children\": [\n",
            "          {\n",
            "           \"name\": \"feature 4 <= 3.75\",\n",
            "           \"children\": [\n",
            "            {\n",
            "             \"name\": \"Predict: 0.0\"\n",
            "            }\n",
            "           ]\n",
            "          },\n",
            "          {\n",
            "           \"name\": \"feature 4 > 3.75\",\n",
            "           \"children\": [\n",
            "            {\n",
            "             \"name\": \"Predict: 1.0\"\n",
            "            }\n",
            "           ]\n",
            "          }\n",
            "         ]\n",
            "        },\n",
            "        {\n",
            "         \"name\": \"feature 3 > 7.75\",\n",
            "         \"children\": [\n",
            "          {\n",
            "           \"name\": \"Predict: 0.0\"\n",
            "          }\n",
            "         ]\n",
            "        }\n",
            "       ]\n",
            "      }\n",
            "     ]\n",
            "    }\n",
            "   ]\n",
            "  },\n",
            "  {\n",
            "   \"name\": \"feature 0 > 7.75\",\n",
            "   \"children\": [\n",
            "    {\n",
            "     \"name\": \"feature 5 <= 6.25\",\n",
            "     \"children\": [\n",
            "      {\n",
            "       \"name\": \"feature 1 <= 6.75\",\n",
            "       \"children\": [\n",
            "        {\n",
            "         \"name\": \"Predict: 0.0\"\n",
            "        }\n",
            "       ]\n",
            "      },\n",
            "      {\n",
            "       \"name\": \"feature 1 > 6.75\",\n",
            "       \"children\": [\n",
            "        {\n",
            "         \"name\": \"Predict: 1.0\"\n",
            "        }\n",
            "       ]\n",
            "      }\n",
            "     ]\n",
            "    },\n",
            "    {\n",
            "     \"name\": \"feature 5 > 6.25\",\n",
            "     \"children\": [\n",
            "      {\n",
            "       \"name\": \"feature 0 <= 8.25\",\n",
            "       \"children\": [\n",
            "        {\n",
            "         \"name\": \"feature 4 <= 5.75\",\n",
            "         \"children\": [\n",
            "          {\n",
            "           \"name\": \"Predict: 0.0\"\n",
            "          }\n",
            "         ]\n",
            "        },\n",
            "        {\n",
            "         \"name\": \"feature 4 > 5.75\",\n",
            "         \"children\": [\n",
            "          {\n",
            "           \"name\": \"feature 6 <= 7.25\",\n",
            "           \"children\": [\n",
            "            {\n",
            "             \"name\": \"Predict: 1.0\"\n",
            "            }\n",
            "           ]\n",
            "          },\n",
            "          {\n",
            "           \"name\": \"feature 6 > 7.25\",\n",
            "           \"children\": [\n",
            "            {\n",
            "             \"name\": \"Predict: 0.0\"\n",
            "            }\n",
            "           ]\n",
            "          }\n",
            "         ]\n",
            "        }\n",
            "       ]\n",
            "      },\n",
            "      {\n",
            "       \"name\": \"feature 0 > 8.25\",\n",
            "       \"children\": [\n",
            "        {\n",
            "         \"name\": \"feature 4 <= 2.75\",\n",
            "         \"children\": [\n",
            "          {\n",
            "           \"name\": \"Predict: 1.0\"\n",
            "          }\n",
            "         ]\n",
            "        },\n",
            "        {\n",
            "         \"name\": \"feature 4 > 2.75\",\n",
            "         \"children\": [\n",
            "          {\n",
            "           \"name\": \"Predict: 0.0\"\n",
            "          }\n",
            "         ]\n",
            "        }\n",
            "       ]\n",
            "      }\n",
            "     ]\n",
            "    }\n",
            "   ]\n",
            "  }\n",
            " ]\n",
            "}\n"
          ]
        }
      ],
      "source": [
        "import json\n",
        "\n",
        "dict_tree_json = debug_str_to_json(NMTTNT_classifier.toDebugString)\n",
        "\n",
        "print(json.dumps(dict_tree_json,indent = 1 ))"
      ]
    }
  ],
  "metadata": {
    "colab": {
      "provenance": []
    },
    "kernelspec": {
      "display_name": "Python 3 (ipykernel)",
      "language": "python",
      "name": "python3"
    },
    "language_info": {
      "codemirror_mode": {
        "name": "ipython",
        "version": 3
      },
      "file_extension": ".py",
      "mimetype": "text/x-python",
      "name": "python",
      "nbconvert_exporter": "python",
      "pygments_lexer": "ipython3",
      "version": "3.9.12"
    }
  },
  "nbformat": 4,
  "nbformat_minor": 0
}
