{
  "cells": [
    {
      "cell_type": "code",
      "execution_count": null,
      "metadata": {
        "colab": {
          "base_uri": "https://localhost:8080/"
        },
        "id": "7A7i9wWEzipn",
        "outputId": "e8206f5b-8d5e-4d7e-d0dd-b4ce21215cd9"
      },
      "outputs": [
        {
          "name": "stdout",
          "output_type": "stream",
          "text": [
            "Looking in indexes: https://pypi.org/simple, https://us-python.pkg.dev/colab-wheels/public/simple/\n",
            "Collecting pyspark\n",
            "  Downloading pyspark-3.2.1.tar.gz (281.4 MB)\n",
            "\u001b[K     |████████████████████████████████| 281.4 MB 29 kB/s \n",
            "\u001b[?25hCollecting py4j==0.10.9.3\n",
            "  Downloading py4j-0.10.9.3-py2.py3-none-any.whl (198 kB)\n",
            "\u001b[K     |████████████████████████████████| 198 kB 42.3 MB/s \n",
            "\u001b[?25hBuilding wheels for collected packages: pyspark\n",
            "  Building wheel for pyspark (setup.py) ... \u001b[?25l\u001b[?25hdone\n",
            "  Created wheel for pyspark: filename=pyspark-3.2.1-py2.py3-none-any.whl size=281853642 sha256=67f7637524ccfb9d80e38cee17eb2cafd9c6b761a807630be006cde980199190\n",
            "  Stored in directory: /root/.cache/pip/wheels/9f/f5/07/7cd8017084dce4e93e84e92efd1e1d5334db05f2e83bcef74f\n",
            "Successfully built pyspark\n",
            "Installing collected packages: py4j, pyspark\n",
            "Successfully installed py4j-0.10.9.3 pyspark-3.2.1\n"
          ]
        }
      ],
      "source": [
        "!pip install pyspark"
      ]
    },
    {
      "cell_type": "code",
      "execution_count": null,
      "metadata": {
        "id": "7WKdzYQPz390"
      },
      "outputs": [],
      "source": [
        "import pyspark\n",
        "from pyspark.sql import SparkSession"
      ]
    },
    {
      "cell_type": "code",
      "execution_count": null,
      "metadata": {
        "id": "Ri-RuqC-z4IQ"
      },
      "outputs": [],
      "source": [
        "spark = SparkSession.builder.master(\"local\").appName(\"Practices\").getOrCreate()"
      ]
    },
    {
      "cell_type": "code",
      "execution_count": null,
      "metadata": {
        "colab": {
          "base_uri": "https://localhost:8080/",
          "height": 219
        },
        "id": "kZgpNJmmz4LI",
        "outputId": "0252c08e-7b06-420d-c08d-442b2723f6ba"
      },
      "outputs": [
        {
          "data": {
            "text/html": [
              "\n",
              "            <div>\n",
              "                <p><b>SparkSession - in-memory</b></p>\n",
              "                \n",
              "        <div>\n",
              "            <p><b>SparkContext</b></p>\n",
              "\n",
              "            <p><a href=\"http://46369052a2fe:4040\">Spark UI</a></p>\n",
              "\n",
              "            <dl>\n",
              "              <dt>Version</dt>\n",
              "                <dd><code>v3.2.1</code></dd>\n",
              "              <dt>Master</dt>\n",
              "                <dd><code>local</code></dd>\n",
              "              <dt>AppName</dt>\n",
              "                <dd><code>Practices</code></dd>\n",
              "            </dl>\n",
              "        </div>\n",
              "        \n",
              "            </div>\n",
              "        "
            ],
            "text/plain": [
              "<pyspark.sql.session.SparkSession at 0x7f53cac807d0>"
            ]
          },
          "execution_count": 4,
          "metadata": {},
          "output_type": "execute_result"
        }
      ],
      "source": [
        "spark"
      ]
    },
    {
      "cell_type": "code",
      "execution_count": null,
      "metadata": {
        "id": "eXvnwPlyz4O_"
      },
      "outputs": [],
      "source": [
        "df = spark.read.csv('input.csv', inferSchema = True, header = True)"
      ]
    },
    {
      "cell_type": "code",
      "execution_count": null,
      "metadata": {
        "colab": {
          "base_uri": "https://localhost:8080/"
        },
        "id": "u2KA43o8z4Rj",
        "outputId": "be21fa31-b37b-4bb5-d651-d3edd3a03c41"
      },
      "outputs": [
        {
          "name": "stdout",
          "output_type": "stream",
          "text": [
            "root\n",
            " |-- MSSV: integer (nullable = true)\n",
            " |-- NMDT: double (nullable = true)\n",
            " |-- CTRR: double (nullable = true)\n",
            " |-- HTS: double (nullable = true)\n",
            " |-- KTLT: double (nullable = true)\n",
            " |-- CTDLGT: double (nullable = true)\n",
            " |-- KTMT: double (nullable = true)\n",
            " |-- LTHDT: double (nullable = true)\n",
            " |-- MHH: double (nullable = true)\n",
            " |-- HCSDL: double (nullable = true)\n",
            " |-- HDH: double (nullable = true)\n",
            " |-- NMTTNT: integer (nullable = true)\n",
            " |-- DHMT: integer (nullable = true)\n",
            " |-- MMANM: integer (nullable = true)\n",
            "\n"
          ]
        }
      ],
      "source": [
        "df.printSchema()"
      ]
    },
    {
      "cell_type": "code",
      "execution_count": null,
      "metadata": {
        "id": "0bCg1gs4z4UT"
      },
      "outputs": [],
      "source": [
        "from pyspark.ml.feature import VectorAssembler"
      ]
    },
    {
      "cell_type": "code",
      "execution_count": null,
      "metadata": {
        "colab": {
          "base_uri": "https://localhost:8080/"
        },
        "id": "tRNxDdt4z4XV",
        "outputId": "c6bb1e3f-15c6-4844-9fe2-41b0dad4cf6f"
      },
      "outputs": [
        {
          "data": {
            "text/plain": [
              "['MSSV',\n",
              " 'NMDT',\n",
              " 'CTRR',\n",
              " 'HTS',\n",
              " 'KTLT',\n",
              " 'CTDLGT',\n",
              " 'KTMT',\n",
              " 'LTHDT',\n",
              " 'MHH',\n",
              " 'HCSDL',\n",
              " 'HDH',\n",
              " 'NMTTNT',\n",
              " 'DHMT',\n",
              " 'MMANM']"
            ]
          },
          "execution_count": 8,
          "metadata": {},
          "output_type": "execute_result"
        }
      ],
      "source": [
        "df.columns"
      ]
    },
    {
      "cell_type": "code",
      "execution_count": null,
      "metadata": {
        "id": "zRlAjkWRz4Z8"
      },
      "outputs": [],
      "source": [
        "assembler = VectorAssembler(inputCols = ['NMDT','CTRR','HTS','KTLT','CTDLGT','KTMT','LTHDT','MHH','HCSDL','HDH'],\n",
        "                           outputCol = 'features')"
      ]
    },
    {
      "cell_type": "code",
      "execution_count": null,
      "metadata": {
        "id": "XXB7-p8oz4gL"
      },
      "outputs": [],
      "source": [
        "output = assembler.transform(df)"
      ]
    },
    {
      "cell_type": "code",
      "execution_count": null,
      "metadata": {
        "colab": {
          "base_uri": "https://localhost:8080/"
        },
        "id": "hcOnqWgNz4jM",
        "outputId": "f47a294f-e25d-4667-f304-338877d47f73"
      },
      "outputs": [
        {
          "name": "stdout",
          "output_type": "stream",
          "text": [
            "+-------+----+----+---+----+------+----+-----+----+-----+---+------+----+-----+-------------------------------------------+\n",
            "|MSSV   |NMDT|CTRR|HTS|KTLT|CTDLGT|KTMT|LTHDT|MHH |HCSDL|HDH|NMTTNT|DHMT|MMANM|features                                   |\n",
            "+-------+----+----+---+----+------+----+-----+----+-----+---+------+----+-----+-------------------------------------------+\n",
            "|75321  |6.5 |6.5 |5.0|6.0 |5.5   |6.5 |7.5  |7.0 |8.0  |6.5|1     |0   |1    |[6.5,6.5,5.0,6.0,5.5,6.5,7.5,7.0,8.0,6.5]  |\n",
            "|81657  |7.5 |7.0 |5.5|7.0 |7.0   |7.5 |7.5  |6.0 |7.5  |7.5|1     |0   |0    |[7.5,7.0,5.5,7.0,7.0,7.5,7.5,6.0,7.5,7.5]  |\n",
            "|209312 |7.0 |6.5 |5.5|7.5 |4.5   |7.0 |0.0  |7.0 |6.0  |8.0|1     |1   |0    |[7.0,6.5,5.5,7.5,4.5,7.0,0.0,7.0,6.0,8.0]  |\n",
            "|583833 |6.5 |7.0 |6.0|5.5 |6.5   |7.0 |8.0  |7.0 |6.0  |7.0|1     |1   |1    |[6.5,7.0,6.0,5.5,6.5,7.0,8.0,7.0,6.0,7.0]  |\n",
            "|1509861|7.5 |5.0 |5.0|9.0 |3.5   |6.5 |6.0  |7.0 |7.5  |6.5|0     |0   |0    |[7.5,5.0,5.0,9.0,3.5,6.5,6.0,7.0,7.5,6.5]  |\n",
            "|2047807|6.5 |6.5 |7.5|9.5 |8.5   |6.5 |8.5  |7.5 |8.5  |8.5|1     |1   |0    |[6.5,6.5,7.5,9.5,8.5,6.5,8.5,7.5,8.5,8.5]  |\n",
            "|2223555|9.0 |8.0 |9.5|10.0|9.0   |8.0 |8.0  |10.0|8.0  |8.5|0     |0   |0    |[9.0,8.0,9.5,10.0,9.0,8.0,8.0,10.0,8.0,8.5]|\n",
            "|2240989|8.5 |7.0 |7.0|7.0 |6.0   |8.0 |7.0  |6.5 |7.5  |8.0|0     |0   |0    |[8.5,7.0,7.0,7.0,6.0,8.0,7.0,6.5,7.5,8.0]  |\n",
            "|2260878|7.5 |8.5 |8.5|10.0|8.5   |8.0 |8.0  |8.5 |0.0  |9.0|0     |0   |0    |[7.5,8.5,8.5,10.0,8.5,8.0,8.0,8.5,0.0,9.0] |\n",
            "|2274996|5.5 |7.0 |7.0|7.5 |7.5   |6.0 |8.0  |7.0 |7.5  |7.5|1     |1   |1    |[5.5,7.0,7.0,7.5,7.5,6.0,8.0,7.0,7.5,7.5]  |\n",
            "|2343848|8.0 |7.0 |6.0|7.5 |5.0   |7.0 |6.5  |6.5 |0.0  |5.5|0     |0   |0    |[8.0,7.0,6.0,7.5,5.0,7.0,6.5,6.5,0.0,5.5]  |\n",
            "|2683782|7.5 |8.0 |6.5|9.0 |8.5   |7.5 |7.0  |8.5 |8.0  |7.0|0     |1   |0    |[7.5,8.0,6.5,9.0,8.5,7.5,7.0,8.5,8.0,7.0]  |\n",
            "|3095962|7.0 |6.5 |6.0|6.5 |7.5   |6.0 |7.5  |5.5 |7.5  |6.5|1     |1   |0    |[7.0,6.5,6.0,6.5,7.5,6.0,7.5,5.5,7.5,6.5]  |\n",
            "|3419145|7.5 |6.5 |5.0|6.0 |1.0   |5.0 |7.0  |6.0 |6.0  |7.0|0     |0   |0    |[7.5,6.5,5.0,6.0,1.0,5.0,7.0,6.0,6.0,7.0]  |\n",
            "|3546806|8.5 |7.5 |7.0|7.0 |6.5   |7.0 |7.5  |7.0 |7.0  |7.0|0     |0   |0    |[8.5,7.5,7.0,7.0,6.5,7.0,7.5,7.0,7.0,7.0]  |\n",
            "|4045426|8.5 |8.5 |6.0|8.0 |7.5   |8.5 |9.0  |8.5 |7.5  |8.5|0     |1   |0    |[8.5,8.5,6.0,8.0,7.5,8.5,9.0,8.5,7.5,8.5]  |\n",
            "|4536867|8.0 |8.0 |9.0|7.5 |9.0   |9.5 |9.5  |9.5 |9.0  |9.5|0     |1   |1    |[8.0,8.0,9.0,7.5,9.0,9.5,9.5,9.5,9.0,9.5]  |\n",
            "|4650139|8.5 |8.0 |8.5|10.0|9.5   |8.5 |8.5  |8.5 |8.5  |9.0|0     |0   |0    |[8.5,8.0,8.5,10.0,9.5,8.5,8.5,8.5,8.5,9.0] |\n",
            "|5665575|5.5 |5.5 |5.0|6.0 |6.5   |6.0 |6.5  |6.5 |7.0  |8.0|1     |1   |0    |[5.5,5.5,5.0,6.0,6.5,6.0,6.5,6.5,7.0,8.0]  |\n",
            "|5763862|7.0 |6.0 |8.0|6.0 |7.5   |7.0 |6.5  |8.5 |7.5  |8.5|0     |0   |1    |[7.0,6.0,8.0,6.0,7.5,7.0,6.5,8.5,7.5,8.5]  |\n",
            "+-------+----+----+---+----+------+----+-----+----+-----+---+------+----+-----+-------------------------------------------+\n",
            "only showing top 20 rows\n",
            "\n"
          ]
        }
      ],
      "source": [
        "output.show(truncate = False)"
      ]
    },
    {
      "cell_type": "code",
      "execution_count": null,
      "metadata": {
        "colab": {
          "base_uri": "https://localhost:8080/"
        },
        "id": "RcJ3Gm76z4qo",
        "outputId": "57332372-46a7-467a-d517-f83c28b7d137"
      },
      "outputs": [
        {
          "name": "stdout",
          "output_type": "stream",
          "text": [
            "+-------------------------------------------+------+----+-----+\n",
            "|features                                   |NMTTNT|DHMT|MMANM|\n",
            "+-------------------------------------------+------+----+-----+\n",
            "|[6.5,6.5,5.0,6.0,5.5,6.5,7.5,7.0,8.0,6.5]  |1     |0   |1    |\n",
            "|[7.5,7.0,5.5,7.0,7.0,7.5,7.5,6.0,7.5,7.5]  |1     |0   |0    |\n",
            "|[7.0,6.5,5.5,7.5,4.5,7.0,0.0,7.0,6.0,8.0]  |1     |1   |0    |\n",
            "|[6.5,7.0,6.0,5.5,6.5,7.0,8.0,7.0,6.0,7.0]  |1     |1   |1    |\n",
            "|[7.5,5.0,5.0,9.0,3.5,6.5,6.0,7.0,7.5,6.5]  |0     |0   |0    |\n",
            "|[6.5,6.5,7.5,9.5,8.5,6.5,8.5,7.5,8.5,8.5]  |1     |1   |0    |\n",
            "|[9.0,8.0,9.5,10.0,9.0,8.0,8.0,10.0,8.0,8.5]|0     |0   |0    |\n",
            "|[8.5,7.0,7.0,7.0,6.0,8.0,7.0,6.5,7.5,8.0]  |0     |0   |0    |\n",
            "|[7.5,8.5,8.5,10.0,8.5,8.0,8.0,8.5,0.0,9.0] |0     |0   |0    |\n",
            "|[5.5,7.0,7.0,7.5,7.5,6.0,8.0,7.0,7.5,7.5]  |1     |1   |1    |\n",
            "|[8.0,7.0,6.0,7.5,5.0,7.0,6.5,6.5,0.0,5.5]  |0     |0   |0    |\n",
            "|[7.5,8.0,6.5,9.0,8.5,7.5,7.0,8.5,8.0,7.0]  |0     |1   |0    |\n",
            "|[7.0,6.5,6.0,6.5,7.5,6.0,7.5,5.5,7.5,6.5]  |1     |1   |0    |\n",
            "|[7.5,6.5,5.0,6.0,1.0,5.0,7.0,6.0,6.0,7.0]  |0     |0   |0    |\n",
            "|[8.5,7.5,7.0,7.0,6.5,7.0,7.5,7.0,7.0,7.0]  |0     |0   |0    |\n",
            "|[8.5,8.5,6.0,8.0,7.5,8.5,9.0,8.5,7.5,8.5]  |0     |1   |0    |\n",
            "|[8.0,8.0,9.0,7.5,9.0,9.5,9.5,9.5,9.0,9.5]  |0     |1   |1    |\n",
            "|[8.5,8.0,8.5,10.0,9.5,8.5,8.5,8.5,8.5,9.0] |0     |0   |0    |\n",
            "|[5.5,5.5,5.0,6.0,6.5,6.0,6.5,6.5,7.0,8.0]  |1     |1   |0    |\n",
            "|[7.0,6.0,8.0,6.0,7.5,7.0,6.5,8.5,7.5,8.5]  |0     |0   |1    |\n",
            "+-------------------------------------------+------+----+-----+\n",
            "only showing top 20 rows\n",
            "\n"
          ]
        }
      ],
      "source": [
        "output.select('features','NMTTNT','DHMT','MMANM').show(truncate = False)"
      ]
    },
    {
      "cell_type": "code",
      "execution_count": null,
      "metadata": {
        "id": "QYYq-Srm02MB"
      },
      "outputs": [],
      "source": [
        "model_df = output.select('features', 'NMTTNT', 'DHMT', 'MMANM')"
      ]
    },
    {
      "cell_type": "code",
      "execution_count": null,
      "metadata": {
        "id": "RjrPVLPv02TY"
      },
      "outputs": [],
      "source": [
        "train_df, test_df = model_df.randomSplit([0.8,0.2])"
      ]
    },
    {
      "cell_type": "code",
      "execution_count": null,
      "metadata": {
        "colab": {
          "base_uri": "https://localhost:8080/"
        },
        "id": "r-q7tAtp02aX",
        "outputId": "9e24523f-31f3-45ab-d57b-bc6be0237807"
      },
      "outputs": [
        {
          "data": {
            "text/plain": [
              "287"
            ]
          },
          "execution_count": 15,
          "metadata": {},
          "output_type": "execute_result"
        }
      ],
      "source": [
        "train_df.count()"
      ]
    },
    {
      "cell_type": "code",
      "execution_count": null,
      "metadata": {
        "colab": {
          "base_uri": "https://localhost:8080/"
        },
        "id": "OKylD4Bn02gV",
        "outputId": "b97a339c-6a56-4c6d-b693-bb4ad3268f77"
      },
      "outputs": [
        {
          "data": {
            "text/plain": [
              "72"
            ]
          },
          "execution_count": 16,
          "metadata": {},
          "output_type": "execute_result"
        }
      ],
      "source": [
        "test_df.count()"
      ]
    },
    {
      "cell_type": "code",
      "execution_count": null,
      "metadata": {
        "id": "2l6DdyKM02ig"
      },
      "outputs": [],
      "source": [
        "from pyspark.ml.classification import DecisionTreeClassifier\n",
        "from pyspark.ml.evaluation import MulticlassClassificationEvaluator"
      ]
    },
    {
      "cell_type": "code",
      "execution_count": null,
      "metadata": {
        "id": "W4daM6Nf02pd"
      },
      "outputs": [],
      "source": [
        "def DeciTree(tenmon):\n",
        "    df_classifier = DecisionTreeClassifier(labelCol=tenmon).fit(train_df)\n",
        "    df_predict = df_classifier.transform(test_df)\n",
        "    df_predict.select(tenmon, 'prediction').show()\n",
        "    df_accuracy = MulticlassClassificationEvaluator(labelCol=tenmon,\n",
        "                                               metricName='accuracy').evaluate(df_predict)\n",
        "    print(\"Accuracy: \", df_accuracy)\n",
        "    df_precision = MulticlassClassificationEvaluator(labelCol='NMTTNT',\n",
        "                                                metricName='weightedPrecision').evaluate(df_predict)\n",
        "    print(\"Precision: \", df_precision)\n",
        "    return df_classifier"
      ]
    },
    {
      "cell_type": "code",
      "execution_count": null,
      "metadata": {
        "colab": {
          "base_uri": "https://localhost:8080/"
        },
        "id": "Hq2VkRiQ1S5w",
        "outputId": "72be97f9-7664-433d-ecdf-0b75d1b62ec0"
      },
      "outputs": [
        {
          "name": "stdout",
          "output_type": "stream",
          "text": [
            "+------+----------+\n",
            "|NMTTNT|prediction|\n",
            "+------+----------+\n",
            "|     1|       1.0|\n",
            "|     1|       1.0|\n",
            "|     1|       1.0|\n",
            "|     0|       1.0|\n",
            "|     1|       1.0|\n",
            "|     0|       0.0|\n",
            "|     1|       1.0|\n",
            "|     0|       1.0|\n",
            "|     1|       1.0|\n",
            "|     1|       1.0|\n",
            "|     1|       1.0|\n",
            "|     1|       1.0|\n",
            "|     1|       1.0|\n",
            "|     1|       1.0|\n",
            "|     1|       1.0|\n",
            "|     1|       1.0|\n",
            "|     0|       0.0|\n",
            "|     0|       1.0|\n",
            "|     0|       1.0|\n",
            "|     1|       1.0|\n",
            "+------+----------+\n",
            "only showing top 20 rows\n",
            "\n",
            "Accuracy:  0.75\n",
            "Precision:  0.7515873015873017\n"
          ]
        },
        {
          "data": {
            "text/plain": [
              "SparseVector(10, {0: 0.4082, 1: 0.14, 2: 0.043, 3: 0.0351, 4: 0.0563, 5: 0.0872, 6: 0.0139, 7: 0.0858, 9: 0.1305})"
            ]
          },
          "execution_count": 44,
          "metadata": {},
          "output_type": "execute_result"
        }
      ],
      "source": [
        "DeciTree('NMTTNT').featureImportances"
      ]
    },
    {
      "cell_type": "code",
      "execution_count": null,
      "metadata": {
        "colab": {
          "base_uri": "https://localhost:8080/"
        },
        "id": "X4gdm0TG1S8N",
        "outputId": "0da526fe-6207-4879-d8d0-0e13bc36047e"
      },
      "outputs": [
        {
          "name": "stdout",
          "output_type": "stream",
          "text": [
            "+----+----------+\n",
            "|DHMT|prediction|\n",
            "+----+----------+\n",
            "|   1|       0.0|\n",
            "|   1|       1.0|\n",
            "|   1|       1.0|\n",
            "|   0|       1.0|\n",
            "|   1|       1.0|\n",
            "|   0|       0.0|\n",
            "|   0|       1.0|\n",
            "|   0|       1.0|\n",
            "|   1|       0.0|\n",
            "|   1|       0.0|\n",
            "|   1|       1.0|\n",
            "|   1|       0.0|\n",
            "|   1|       1.0|\n",
            "|   0|       0.0|\n",
            "|   1|       1.0|\n",
            "|   1|       1.0|\n",
            "|   0|       0.0|\n",
            "|   0|       0.0|\n",
            "|   0|       0.0|\n",
            "|   1|       0.0|\n",
            "+----+----------+\n",
            "only showing top 20 rows\n",
            "\n",
            "Accuracy:  0.7222222222222222\n",
            "Precision:  0.7247474747474747\n"
          ]
        },
        {
          "data": {
            "text/plain": [
              "SparseVector(10, {0: 0.281, 1: 0.0563, 2: 0.1813, 3: 0.0956, 5: 0.1424, 6: 0.1706, 9: 0.0728})"
            ]
          },
          "execution_count": 45,
          "metadata": {},
          "output_type": "execute_result"
        }
      ],
      "source": [
        "DeciTree('DHMT').featureImportances"
      ]
    },
    {
      "cell_type": "code",
      "execution_count": null,
      "metadata": {
        "colab": {
          "base_uri": "https://localhost:8080/"
        },
        "id": "QMqOfEHC1S_g",
        "outputId": "a46d35dc-b5b1-4827-da8b-6acfc409c02c"
      },
      "outputs": [
        {
          "name": "stdout",
          "output_type": "stream",
          "text": [
            "+-----+----------+\n",
            "|MMANM|prediction|\n",
            "+-----+----------+\n",
            "|    1|       1.0|\n",
            "|    0|       1.0|\n",
            "|    0|       1.0|\n",
            "|    0|       1.0|\n",
            "|    0|       0.0|\n",
            "|    0|       0.0|\n",
            "|    1|       0.0|\n",
            "|    0|       0.0|\n",
            "|    0|       0.0|\n",
            "|    0|       0.0|\n",
            "|    0|       0.0|\n",
            "|    0|       0.0|\n",
            "|    1|       0.0|\n",
            "|    0|       0.0|\n",
            "|    0|       0.0|\n",
            "|    0|       0.0|\n",
            "|    0|       0.0|\n",
            "|    0|       0.0|\n",
            "|    0|       0.0|\n",
            "|    0|       0.0|\n",
            "+-----+----------+\n",
            "only showing top 20 rows\n",
            "\n",
            "Accuracy:  0.7638888888888888\n",
            "Precision:  0.5669154228855722\n"
          ]
        },
        {
          "data": {
            "text/plain": [
              "SparseVector(10, {0: 0.2868, 1: 0.04, 2: 0.0135, 4: 0.3274, 5: 0.2102, 7: 0.1222})"
            ]
          },
          "execution_count": 46,
          "metadata": {},
          "output_type": "execute_result"
        }
      ],
      "source": [
        "DeciTree('MMANM').featureImportances"
      ]
    },
    {
      "cell_type": "code",
      "execution_count": null,
      "metadata": {
        "id": "QF_ApZT-02qa"
      },
      "outputs": [],
      "source": []
    },
    {
      "cell_type": "code",
      "execution_count": null,
      "metadata": {
        "id": "z7Am4jz9z4to"
      },
      "outputs": [],
      "source": [
        "dt_fit_NMTTNT = DeciTree('NMTTNT')"
      ]
    },
    {
      "cell_type": "code",
      "execution_count": null,
      "metadata": {
        "id": "VUtW7kJKSp37"
      },
      "outputs": [],
      "source": [
        "df_fit_DHMT = DeciTree('DHMT')\n",
        "df_fit_MMANM = DeciTree('MMANM')"
      ]
    },
    {
      "cell_type": "code",
      "execution_count": null,
      "metadata": {
        "id": "uUTg9-zHwHzI"
      },
      "outputs": [],
      "source": [
        "# The following code lines only help visualizing DTs."
      ]
    },
    {
      "cell_type": "code",
      "execution_count": null,
      "metadata": {
        "colab": {
          "base_uri": "https://localhost:8080/",
          "height": 158
        },
        "id": "zezSyS1sSqAy",
        "outputId": "adb2ceea-5ad3-49f9-e780-eaa0a54bd2c0"
      },
      "outputs": [
        {
          "data": {
            "application/vnd.google.colaboratory.intrinsic+json": {
              "type": "string"
            },
            "text/plain": [
              "'DecisionTreeClassificationModel: uid=DecisionTreeClassifier_da173ffc8de9, depth=5, numNodes=31, numClasses=2, numFeatures=10\\n  If (feature 0 <= 7.25)\\n   If (feature 9 <= 4.5)\\n    Predict: 0.0\\n   Else (feature 9 > 4.5)\\n    If (feature 7 <= 8.25)\\n     If (feature 2 <= 3.75)\\n      If (feature 0 <= 6.25)\\n       Predict: 0.0\\n      Else (feature 0 > 6.25)\\n       Predict: 1.0\\n     Else (feature 2 > 3.75)\\n      Predict: 1.0\\n    Else (feature 7 > 8.25)\\n     If (feature 6 <= 9.25)\\n      Predict: 0.0\\n     Else (feature 6 > 9.25)\\n      Predict: 1.0\\n  Else (feature 0 > 7.25)\\n   If (feature 5 <= 7.25)\\n    If (feature 1 <= 6.75)\\n     If (feature 2 <= 7.75)\\n      Predict: 0.0\\n     Else (feature 2 > 7.75)\\n      Predict: 1.0\\n    Else (feature 1 > 6.75)\\n     If (feature 9 <= 7.75)\\n      If (feature 3 <= 6.75)\\n       Predict: 1.0\\n      Else (feature 3 > 6.75)\\n       Predict: 0.0\\n     Else (feature 9 > 7.75)\\n      Predict: 1.0\\n   Else (feature 5 > 7.25)\\n    If (feature 0 <= 7.75)\\n     If (feature 7 <= 8.75)\\n      If (feature 4 <= 7.25)\\n       Predict: 0.0\\n      Else (feature 4 > 7.25)\\n       Predict: 1.0\\n     Else (feature 7 > 8.75)\\n      Predict: 0.0\\n    Else (feature 0 > 7.75)\\n     If (feature 9 <= 9.25)\\n      Predict: 0.0\\n     Else (feature 9 > 9.25)\\n      Predict: 1.0\\n'"
            ]
          },
          "execution_count": 34,
          "metadata": {},
          "output_type": "execute_result"
        }
      ],
      "source": [
        "dt_fit_NMTTNT.toDebugString"
      ]
    },
    {
      "cell_type": "code",
      "execution_count": null,
      "metadata": {
        "id": "iLe20M96SqBy"
      },
      "outputs": [],
      "source": [
        "def parse_debug_string_lines(lines):\n",
        "    \n",
        "    block = []\n",
        "    while lines:\n",
        "\n",
        "\n",
        "        if lines[0].startswith('If'):\n",
        "            bl = ' '.join(lines.pop(0).split()[1:]).replace('(', '').replace(')', '')\n",
        "            block.append({'name': bl, 'children': parse_debug_string_lines(lines)})\n",
        "\n",
        "\n",
        "            if lines[0].startswith('Else'):\n",
        "                be = ' '.join(lines.pop(0).split()[1:]).replace('(', '').replace(')', '')\n",
        "                block.append({'name': be, 'children': parse_debug_string_lines(lines)})\n",
        "        elif not lines[0].startswith(('If', 'Else')):\n",
        "            block2 = lines.pop(0)\n",
        "            block.append({'name': block2})\n",
        "        else:\n",
        "            break\n",
        "    \n",
        "    return block\n",
        "\n",
        "\n",
        "def debug_str_to_json(debug_string):\n",
        "    data = []\n",
        "    for line in debug_string.splitlines():\n",
        "        if line.strip():\n",
        "            line = line.strip()\n",
        "            data.append(line)\n",
        "        else:\n",
        "            break\n",
        "        if not line: break\n",
        "\n",
        "    json = {'name': 'Root', 'children': parse_debug_string_lines(data[1:])}\n",
        "    \n",
        "\n",
        "    return json"
      ]
    },
    {
      "cell_type": "code",
      "execution_count": null,
      "metadata": {
        "colab": {
          "base_uri": "https://localhost:8080/"
        },
        "id": "gF_qE3JkaX2d",
        "outputId": "77f58de1-9ba2-49a9-b690-25f26cdf2c8d"
      },
      "outputs": [
        {
          "name": "stdout",
          "output_type": "stream",
          "text": [
            "{\n",
            " \"name\": \"Root\",\n",
            " \"children\": [\n",
            "  {\n",
            "   \"name\": \"feature 0 <= 7.25\",\n",
            "   \"children\": [\n",
            "    {\n",
            "     \"name\": \"feature 9 <= 4.5\",\n",
            "     \"children\": [\n",
            "      {\n",
            "       \"name\": \"Predict: 0.0\"\n",
            "      }\n",
            "     ]\n",
            "    },\n",
            "    {\n",
            "     \"name\": \"feature 9 > 4.5\",\n",
            "     \"children\": [\n",
            "      {\n",
            "       \"name\": \"feature 7 <= 8.25\",\n",
            "       \"children\": [\n",
            "        {\n",
            "         \"name\": \"feature 2 <= 3.75\",\n",
            "         \"children\": [\n",
            "          {\n",
            "           \"name\": \"feature 0 <= 6.25\",\n",
            "           \"children\": [\n",
            "            {\n",
            "             \"name\": \"Predict: 0.0\"\n",
            "            }\n",
            "           ]\n",
            "          },\n",
            "          {\n",
            "           \"name\": \"feature 0 > 6.25\",\n",
            "           \"children\": [\n",
            "            {\n",
            "             \"name\": \"Predict: 1.0\"\n",
            "            }\n",
            "           ]\n",
            "          }\n",
            "         ]\n",
            "        },\n",
            "        {\n",
            "         \"name\": \"feature 2 > 3.75\",\n",
            "         \"children\": [\n",
            "          {\n",
            "           \"name\": \"Predict: 1.0\"\n",
            "          }\n",
            "         ]\n",
            "        }\n",
            "       ]\n",
            "      },\n",
            "      {\n",
            "       \"name\": \"feature 7 > 8.25\",\n",
            "       \"children\": [\n",
            "        {\n",
            "         \"name\": \"feature 6 <= 9.25\",\n",
            "         \"children\": [\n",
            "          {\n",
            "           \"name\": \"Predict: 0.0\"\n",
            "          }\n",
            "         ]\n",
            "        },\n",
            "        {\n",
            "         \"name\": \"feature 6 > 9.25\",\n",
            "         \"children\": [\n",
            "          {\n",
            "           \"name\": \"Predict: 1.0\"\n",
            "          }\n",
            "         ]\n",
            "        }\n",
            "       ]\n",
            "      }\n",
            "     ]\n",
            "    }\n",
            "   ]\n",
            "  },\n",
            "  {\n",
            "   \"name\": \"feature 0 > 7.25\",\n",
            "   \"children\": [\n",
            "    {\n",
            "     \"name\": \"feature 5 <= 7.25\",\n",
            "     \"children\": [\n",
            "      {\n",
            "       \"name\": \"feature 1 <= 6.75\",\n",
            "       \"children\": [\n",
            "        {\n",
            "         \"name\": \"feature 2 <= 7.75\",\n",
            "         \"children\": [\n",
            "          {\n",
            "           \"name\": \"Predict: 0.0\"\n",
            "          }\n",
            "         ]\n",
            "        },\n",
            "        {\n",
            "         \"name\": \"feature 2 > 7.75\",\n",
            "         \"children\": [\n",
            "          {\n",
            "           \"name\": \"Predict: 1.0\"\n",
            "          }\n",
            "         ]\n",
            "        }\n",
            "       ]\n",
            "      },\n",
            "      {\n",
            "       \"name\": \"feature 1 > 6.75\",\n",
            "       \"children\": [\n",
            "        {\n",
            "         \"name\": \"feature 9 <= 7.75\",\n",
            "         \"children\": [\n",
            "          {\n",
            "           \"name\": \"feature 3 <= 6.75\",\n",
            "           \"children\": [\n",
            "            {\n",
            "             \"name\": \"Predict: 1.0\"\n",
            "            }\n",
            "           ]\n",
            "          },\n",
            "          {\n",
            "           \"name\": \"feature 3 > 6.75\",\n",
            "           \"children\": [\n",
            "            {\n",
            "             \"name\": \"Predict: 0.0\"\n",
            "            }\n",
            "           ]\n",
            "          }\n",
            "         ]\n",
            "        },\n",
            "        {\n",
            "         \"name\": \"feature 9 > 7.75\",\n",
            "         \"children\": [\n",
            "          {\n",
            "           \"name\": \"Predict: 1.0\"\n",
            "          }\n",
            "         ]\n",
            "        }\n",
            "       ]\n",
            "      }\n",
            "     ]\n",
            "    },\n",
            "    {\n",
            "     \"name\": \"feature 5 > 7.25\",\n",
            "     \"children\": [\n",
            "      {\n",
            "       \"name\": \"feature 0 <= 7.75\",\n",
            "       \"children\": [\n",
            "        {\n",
            "         \"name\": \"feature 7 <= 8.75\",\n",
            "         \"children\": [\n",
            "          {\n",
            "           \"name\": \"feature 4 <= 7.25\",\n",
            "           \"children\": [\n",
            "            {\n",
            "             \"name\": \"Predict: 0.0\"\n",
            "            }\n",
            "           ]\n",
            "          },\n",
            "          {\n",
            "           \"name\": \"feature 4 > 7.25\",\n",
            "           \"children\": [\n",
            "            {\n",
            "             \"name\": \"Predict: 1.0\"\n",
            "            }\n",
            "           ]\n",
            "          }\n",
            "         ]\n",
            "        },\n",
            "        {\n",
            "         \"name\": \"feature 7 > 8.75\",\n",
            "         \"children\": [\n",
            "          {\n",
            "           \"name\": \"Predict: 0.0\"\n",
            "          }\n",
            "         ]\n",
            "        }\n",
            "       ]\n",
            "      },\n",
            "      {\n",
            "       \"name\": \"feature 0 > 7.75\",\n",
            "       \"children\": [\n",
            "        {\n",
            "         \"name\": \"feature 9 <= 9.25\",\n",
            "         \"children\": [\n",
            "          {\n",
            "           \"name\": \"Predict: 0.0\"\n",
            "          }\n",
            "         ]\n",
            "        },\n",
            "        {\n",
            "         \"name\": \"feature 9 > 9.25\",\n",
            "         \"children\": [\n",
            "          {\n",
            "           \"name\": \"Predict: 1.0\"\n",
            "          }\n",
            "         ]\n",
            "        }\n",
            "       ]\n",
            "      }\n",
            "     ]\n",
            "    }\n",
            "   ]\n",
            "  }\n",
            " ]\n",
            "}\n"
          ]
        }
      ],
      "source": [
        "import json\n",
        "\n",
        "dict_tree_json = debug_str_to_json(dt_fit_NMTTNT.toDebugString)\n",
        "\n",
        "print(json.dumps(dict_tree_json,indent = 1 ))"
      ]
    },
    {
      "cell_type": "code",
      "execution_count": null,
      "metadata": {
        "colab": {
          "base_uri": "https://localhost:8080/"
        },
        "id": "J37b7FCFaX-D",
        "outputId": "51281e34-9407-4d95-a590-0e52b2f2b849"
      },
      "outputs": [
        {
          "name": "stdout",
          "output_type": "stream",
          "text": [
            "{0: 'NMDT', 1: 'CTRR', 2: 'HTS', 3: 'KTLT', 4: 'CTDLGT', 5: 'KTMT', 6: 'LTHDT', 7: 'MHH', 8: 'HCSDL', 9: 'HDH'}\n"
          ]
        }
      ],
      "source": [
        "f_type_to_flist_dict = output.schema['features'].metadata[\"ml_attr\"][\"attrs\"]\n",
        "\n",
        "f_index_to_name_dict = {}\n",
        "\n",
        "for f_type, f_list in f_type_to_flist_dict.items():\n",
        "  for f in f_list:\n",
        "    f_index = f['idx']\n",
        "    f_name = f['name']\n",
        "    f_index_to_name_dict[f_index] = f_name\n",
        "\n",
        "\n",
        "\n",
        "\n",
        "print(f_index_to_name_dict)"
      ]
    },
    {
      "cell_type": "code",
      "execution_count": null,
      "metadata": {
        "colab": {
          "base_uri": "https://localhost:8080/"
        },
        "id": "DX4UOS8hSqK8",
        "outputId": "2b75acdc-1136-4ee4-c79d-72f41e389997"
      },
      "outputs": [
        {
          "name": "stdout",
          "output_type": "stream",
          "text": [
            "{\n",
            " \"name\": \"Root\",\n",
            " \"children\": [\n",
            "  {\n",
            "   \"name\": \"feature 0 <= 7.25\",\n",
            "   \"children\": [\n",
            "    {\n",
            "     \"name\": \"feature 4 <= 5.25\",\n",
            "     \"children\": [\n",
            "      {\n",
            "       \"name\": \"feature 4 <= 3.75\",\n",
            "       \"children\": [\n",
            "        {\n",
            "         \"name\": \"feature 4 <= 1.25\",\n",
            "         \"children\": [\n",
            "          {\n",
            "           \"name\": \"Predict: 0.0\"\n",
            "          }\n",
            "         ]\n",
            "        },\n",
            "        {\n",
            "         \"name\": \"feature 4 > 1.25\",\n",
            "         \"children\": [\n",
            "          {\n",
            "           \"name\": \"feature 5 <= 5.75\",\n",
            "           \"children\": [\n",
            "            {\n",
            "             \"name\": \"Predict: 1.0\"\n",
            "            }\n",
            "           ]\n",
            "          },\n",
            "          {\n",
            "           \"name\": \"feature 5 > 5.75\",\n",
            "           \"children\": [\n",
            "            {\n",
            "             \"name\": \"Predict: 0.0\"\n",
            "            }\n",
            "           ]\n",
            "          }\n",
            "         ]\n",
            "        }\n",
            "       ]\n",
            "      },\n",
            "      {\n",
            "       \"name\": \"feature 4 > 3.75\",\n",
            "       \"children\": [\n",
            "        {\n",
            "         \"name\": \"Predict: 0.0\"\n",
            "        }\n",
            "       ]\n",
            "      }\n",
            "     ]\n",
            "    },\n",
            "    {\n",
            "     \"name\": \"feature 4 > 5.25\",\n",
            "     \"children\": [\n",
            "      {\n",
            "       \"name\": \"feature 0 <= 6.25\",\n",
            "       \"children\": [\n",
            "        {\n",
            "         \"name\": \"feature 0 <= 5.75\",\n",
            "         \"children\": [\n",
            "          {\n",
            "           \"name\": \"Predict: 1.0\"\n",
            "          }\n",
            "         ]\n",
            "        },\n",
            "        {\n",
            "         \"name\": \"feature 0 > 5.75\",\n",
            "         \"children\": [\n",
            "          {\n",
            "           \"name\": \"Predict: 0.0\"\n",
            "          }\n",
            "         ]\n",
            "        }\n",
            "       ]\n",
            "      },\n",
            "      {\n",
            "       \"name\": \"feature 0 > 6.25\",\n",
            "       \"children\": [\n",
            "        {\n",
            "         \"name\": \"feature 4 <= 6.25\",\n",
            "         \"children\": [\n",
            "          {\n",
            "           \"name\": \"feature 5 <= 5.75\",\n",
            "           \"children\": [\n",
            "            {\n",
            "             \"name\": \"Predict: 0.0\"\n",
            "            }\n",
            "           ]\n",
            "          },\n",
            "          {\n",
            "           \"name\": \"feature 5 > 5.75\",\n",
            "           \"children\": [\n",
            "            {\n",
            "             \"name\": \"Predict: 1.0\"\n",
            "            }\n",
            "           ]\n",
            "          }\n",
            "         ]\n",
            "        },\n",
            "        {\n",
            "         \"name\": \"feature 4 > 6.25\",\n",
            "         \"children\": [\n",
            "          {\n",
            "           \"name\": \"Predict: 0.0\"\n",
            "          }\n",
            "         ]\n",
            "        }\n",
            "       ]\n",
            "      }\n",
            "     ]\n",
            "    }\n",
            "   ]\n",
            "  },\n",
            "  {\n",
            "   \"name\": \"feature 0 > 7.25\",\n",
            "   \"children\": [\n",
            "    {\n",
            "     \"name\": \"feature 5 <= 6.25\",\n",
            "     \"children\": [\n",
            "      {\n",
            "       \"name\": \"feature 7 <= 6.25\",\n",
            "       \"children\": [\n",
            "        {\n",
            "         \"name\": \"Predict: 0.0\"\n",
            "        }\n",
            "       ]\n",
            "      },\n",
            "      {\n",
            "       \"name\": \"feature 7 > 6.25\",\n",
            "       \"children\": [\n",
            "        {\n",
            "         \"name\": \"feature 5 <= 5.25\",\n",
            "         \"children\": [\n",
            "          {\n",
            "           \"name\": \"Predict: 0.0\"\n",
            "          }\n",
            "         ]\n",
            "        },\n",
            "        {\n",
            "         \"name\": \"feature 5 > 5.25\",\n",
            "         \"children\": [\n",
            "          {\n",
            "           \"name\": \"feature 1 <= 8.25\",\n",
            "           \"children\": [\n",
            "            {\n",
            "             \"name\": \"Predict: 1.0\"\n",
            "            }\n",
            "           ]\n",
            "          },\n",
            "          {\n",
            "           \"name\": \"feature 1 > 8.25\",\n",
            "           \"children\": [\n",
            "            {\n",
            "             \"name\": \"Predict: 0.0\"\n",
            "            }\n",
            "           ]\n",
            "          }\n",
            "         ]\n",
            "        }\n",
            "       ]\n",
            "      }\n",
            "     ]\n",
            "    },\n",
            "    {\n",
            "     \"name\": \"feature 5 > 6.25\",\n",
            "     \"children\": [\n",
            "      {\n",
            "       \"name\": \"feature 4 <= 6.75\",\n",
            "       \"children\": [\n",
            "        {\n",
            "         \"name\": \"feature 2 <= 4.75\",\n",
            "         \"children\": [\n",
            "          {\n",
            "           \"name\": \"feature 0 <= 8.25\",\n",
            "           \"children\": [\n",
            "            {\n",
            "             \"name\": \"Predict: 0.0\"\n",
            "            }\n",
            "           ]\n",
            "          },\n",
            "          {\n",
            "           \"name\": \"feature 0 > 8.25\",\n",
            "           \"children\": [\n",
            "            {\n",
            "             \"name\": \"Predict: 1.0\"\n",
            "            }\n",
            "           ]\n",
            "          }\n",
            "         ]\n",
            "        },\n",
            "        {\n",
            "         \"name\": \"feature 2 > 4.75\",\n",
            "         \"children\": [\n",
            "          {\n",
            "           \"name\": \"Predict: 0.0\"\n",
            "          }\n",
            "         ]\n",
            "        }\n",
            "       ]\n",
            "      },\n",
            "      {\n",
            "       \"name\": \"feature 4 > 6.75\",\n",
            "       \"children\": [\n",
            "        {\n",
            "         \"name\": \"Predict: 0.0\"\n",
            "        }\n",
            "       ]\n",
            "      }\n",
            "     ]\n",
            "    }\n",
            "   ]\n",
            "  }\n",
            " ]\n",
            "}\n"
          ]
        }
      ],
      "source": [
        "dict_tree_json = debug_str_to_json(df_fit_MMANM.toDebugString)\n",
        "\n",
        "print(json.dumps(dict_tree_json,indent = 1 ))"
      ]
    }
  ],
  "metadata": {
    "colab": {
      "provenance": []
    },
    "kernelspec": {
      "display_name": "Python 3",
      "name": "python3"
    },
    "language_info": {
      "name": "python"
    }
  },
  "nbformat": 4,
  "nbformat_minor": 0
}
