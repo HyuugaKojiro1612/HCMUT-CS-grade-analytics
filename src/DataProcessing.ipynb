{
  "cells": [
    {
      "attachments": {},
      "cell_type": "markdown",
      "metadata": {
        "id": "PCF-VrIu4peC"
      },
      "source": []
    },
    {
      "attachments": {},
      "cell_type": "markdown",
      "metadata": {},
      "source": [
        "#### <b>Import libraries and datasets</b>"
      ]
    },
    {
      "cell_type": "code",
      "execution_count": 1,
      "metadata": {
        "colab": {
          "base_uri": "https://localhost:8080/"
        },
        "id": "LBfgladh7gpg",
        "outputId": "e44ed4df-8818-442b-c528-1294cdb4d8d0"
      },
      "outputs": [
        {
          "name": "stdout",
          "output_type": "stream",
          "text": [
            "Looking in indexes: https://pypi.org/simple, https://us-python.pkg.dev/colab-wheels/public/simple/\n",
            "Collecting pyspark\n",
            "  Downloading pyspark-3.2.1.tar.gz (281.4 MB)\n",
            "\u001b[K     |████████████████████████████████| 281.4 MB 28 kB/s \n",
            "\u001b[?25hCollecting py4j==0.10.9.3\n",
            "\u001b[33m  WARNING: Retrying (Retry(total=4, connect=None, read=None, redirect=None, status=None)) after connection broken by 'ProtocolError('Connection aborted.', ConnectionResetError(104, 'Connection reset by peer'))': /packages/5e/e6/68db58a1d94d41ae042400f7965ed6a2c30e4108f77b54672d6451f86ebd/py4j-0.10.9.3-py2.py3-none-any.whl\u001b[0m\n",
            "  Downloading py4j-0.10.9.3-py2.py3-none-any.whl (198 kB)\n",
            "\u001b[K     |████████████████████████████████| 198 kB 14.8 MB/s \n",
            "\u001b[?25hBuilding wheels for collected packages: pyspark\n",
            "  Building wheel for pyspark (setup.py) ... \u001b[?25l\u001b[?25hdone\n",
            "  Created wheel for pyspark: filename=pyspark-3.2.1-py2.py3-none-any.whl size=281853642 sha256=fe98637f2edc612f52a804925dc5e27e2e9f3c9fc6f56d5dd0365c0a91e71f5f\n",
            "  Stored in directory: /root/.cache/pip/wheels/9f/f5/07/7cd8017084dce4e93e84e92efd1e1d5334db05f2e83bcef74f\n",
            "Successfully built pyspark\n",
            "Installing collected packages: py4j, pyspark\n",
            "Successfully installed py4j-0.10.9.3 pyspark-3.2.1\n"
          ]
        }
      ],
      "source": [
        "!pip install pyspark"
      ]
    },
    {
      "cell_type": "code",
      "execution_count": 2,
      "metadata": {
        "id": "MtQoxmTV78TT"
      },
      "outputs": [],
      "source": [
        "import pyspark\n",
        "from pyspark.sql import SparkSession"
      ]
    },
    {
      "cell_type": "code",
      "execution_count": 3,
      "metadata": {
        "id": "2W-b_S7_5KuG"
      },
      "outputs": [],
      "source": [
        "spark = SparkSession.builder.master(\"local\").appName(\"DataPoints\").getOrCreate()"
      ]
    },
    {
      "cell_type": "code",
      "execution_count": 4,
      "metadata": {
        "colab": {
          "base_uri": "https://localhost:8080/",
          "height": 219
        },
        "id": "iH-wyuUT5Nda",
        "outputId": "1cb528e8-2fea-4f41-e4ac-e57f81b590dd"
      },
      "outputs": [
        {
          "data": {
            "text/html": [
              "\n",
              "            <div>\n",
              "                <p><b>SparkSession - in-memory</b></p>\n",
              "                \n",
              "        <div>\n",
              "            <p><b>SparkContext</b></p>\n",
              "\n",
              "            <p><a href=\"http://5566b556fe0e:4040\">Spark UI</a></p>\n",
              "\n",
              "            <dl>\n",
              "              <dt>Version</dt>\n",
              "                <dd><code>v3.2.1</code></dd>\n",
              "              <dt>Master</dt>\n",
              "                <dd><code>local</code></dd>\n",
              "              <dt>AppName</dt>\n",
              "                <dd><code>DataPoints</code></dd>\n",
              "            </dl>\n",
              "        </div>\n",
              "        \n",
              "            </div>\n",
              "        "
            ],
            "text/plain": [
              "<pyspark.sql.session.SparkSession at 0x7f4641d3b310>"
            ]
          },
          "execution_count": 4,
          "metadata": {},
          "output_type": "execute_result"
        }
      ],
      "source": [
        "spark"
      ]
    },
    {
      "cell_type": "code",
      "execution_count": 5,
      "metadata": {
        "colab": {
          "base_uri": "https://localhost:8080/"
        },
        "id": "kFHpBqsa5NwM",
        "outputId": "b07013af-8cde-46f9-d82e-ea25467cd563"
      },
      "outputs": [
        {
          "name": "stdout",
          "output_type": "stream",
          "text": [
            "Looking in indexes: https://pypi.org/simple, https://us-python.pkg.dev/colab-wheels/public/simple/\n",
            "Requirement already satisfied: openpyxl in /usr/local/lib/python3.7/dist-packages (3.0.10)\n",
            "Requirement already satisfied: et-xmlfile in /usr/local/lib/python3.7/dist-packages (from openpyxl) (1.1.0)\n"
          ]
        }
      ],
      "source": [
        "import pandas as pd\n",
        "!pip install openpyxl"
      ]
    },
    {
      "cell_type": "code",
      "execution_count": 7,
      "metadata": {
        "id": "C7wkNo8a5N8e"
      },
      "outputs": [],
      "source": [
        "# Convert .xlsx files to .csv to make the datasets readable to spark\n",
        "pandas_df = pd.read_excel('diem_f1_md.xlsx', engine = 'openpyxl')\n",
        "pandas_df.to_csv(\"f1.csv\")\n",
        "df1 = spark.read.csv(\"./f1.csv\", inferSchema=True, header=True)\n",
        "\n",
        "pd.read_excel('diem_f2_md.xlsx', engine = 'openpyxl').to_csv(\"f2.csv\")\n",
        "df2 = spark.read.csv(\"./f2.csv\", inferSchema=True, header=True)"
      ]
    },
    {
      "cell_type": "code",
      "execution_count": 12,
      "metadata": {
        "colab": {
          "base_uri": "https://localhost:8080/"
        },
        "id": "weXfUJg25jz5",
        "outputId": "6263a1b7-c772-4ce7-ba6a-826f027e50aa"
      },
      "outputs": [
        {
          "data": {
            "text/plain": [
              "1000000"
            ]
          },
          "execution_count": 12,
          "metadata": {},
          "output_type": "execute_result"
        }
      ],
      "source": [
        "df = df1.union(df2)\n",
        "df.count()"
      ]
    },
    {
      "cell_type": "code",
      "execution_count": 13,
      "metadata": {
        "colab": {
          "base_uri": "https://localhost:8080/"
        },
        "id": "nKrDYozF5j2h",
        "outputId": "d4cf0938-f77c-4f49-bae3-c1caf9d5321c"
      },
      "outputs": [
        {
          "name": "stdout",
          "output_type": "stream",
          "text": [
            "root\n",
            " |-- _c0: integer (nullable = true)\n",
            " |-- NAMHOC: integer (nullable = true)\n",
            " |-- TENHK: integer (nullable = true)\n",
            " |-- NHHK: integer (nullable = true)\n",
            " |-- F_MAMH: string (nullable = true)\n",
            " |-- F_TENMHVN: string (nullable = true)\n",
            " |-- F_DVHT: double (nullable = true)\n",
            " |-- F_PHTRAMKT: integer (nullable = true)\n",
            " |-- F_PHTRAMTH: integer (nullable = true)\n",
            " |-- F_MANH: string (nullable = true)\n",
            " |-- F_TO: string (nullable = true)\n",
            " |-- STT: string (nullable = true)\n",
            " |-- F_MAKH: string (nullable = true)\n",
            " |-- F_TENLOP: string (nullable = true)\n",
            " |-- F_KHOI: string (nullable = true)\n",
            " |-- F_MANG: string (nullable = true)\n",
            " |-- F_TENNGVN: string (nullable = true)\n",
            " |-- MASV1: integer (nullable = true)\n",
            " |-- KT: double (nullable = true)\n",
            " |-- TILEKT: double (nullable = true)\n",
            " |-- BT: double (nullable = true)\n",
            " |-- TILEBT: double (nullable = true)\n",
            " |-- BTLDA: double (nullable = true)\n",
            " |-- TILEBTLDA: double (nullable = true)\n",
            " |-- TN: double (nullable = true)\n",
            " |-- TILETN: double (nullable = true)\n",
            " |-- THI: double (nullable = true)\n",
            " |-- TILETHI: double (nullable = true)\n",
            " |-- TKET: string (nullable = true)\n",
            " |-- F_DIEM1: double (nullable = true)\n",
            " |-- F_DIEM2: double (nullable = true)\n",
            " |-- F_DIEM10: string (nullable = true)\n",
            " |-- GHICHU: string (nullable = true)\n",
            " |-- T: string (nullable = true)\n",
            "\n"
          ]
        }
      ],
      "source": [
        "df.printSchema()"
      ]
    },
    {
      "cell_type": "code",
      "execution_count": 15,
      "metadata": {
        "colab": {
          "base_uri": "https://localhost:8080/"
        },
        "id": "dlKUo9Q65j_G",
        "outputId": "f4fd9ec7-b38f-47a3-ff87-88c60b773a18"
      },
      "outputs": [
        {
          "data": {
            "text/plain": [
              "178"
            ]
          },
          "execution_count": 15,
          "metadata": {},
          "output_type": "execute_result"
        }
      ],
      "source": [
        "# create a dataset of courses (môn học) which are taught to CS students ('F_MAKH' == 'MT') from the year 2015 ('NAMHOC' >= 2015)\n",
        "df_subject = df.filter((df['F_MAKH'] == 'MT') & (df['NAMHOC'] >= 2015)) \\\n",
        "    .groupBy('F_TENMHVN').count().orderBy('F_TENMHVN')\n",
        "    \n",
        "df_subject.count()"
      ]
    },
    {
      "cell_type": "code",
      "execution_count": 16,
      "metadata": {
        "colab": {
          "base_uri": "https://localhost:8080/"
        },
        "id": "vah7CZRd5kCW",
        "outputId": "8a8b031b-327b-4756-dfb5-be6054a3baa7"
      },
      "outputs": [
        {
          "name": "stdout",
          "output_type": "stream",
          "text": [
            "+------------------------+-----+\n",
            "|F_TENMHVN               |count|\n",
            "+------------------------+-----+\n",
            "|Anh văn 1               |440  |\n",
            "|Anh văn 2               |517  |\n",
            "|Anh văn 3               |606  |\n",
            "|Anh văn 4               |502  |\n",
            "|Anh văn cơ bản          |95   |\n",
            "|Anh văn tăng cường 1    |5    |\n",
            "|Anh văn tăng cường 2    |41   |\n",
            "|Anh văn tăng cường 3    |73   |\n",
            "|Anh văn tăng cường 4    |25   |\n",
            "|App of wind&solar energy|1    |\n",
            "|Bảomật hệ thống thôngtin|83   |\n",
            "|C/nghệ phần mềm nâng cao|156  |\n",
            "|CS dữ liệu &các hệ thtin|1    |\n",
            "|CSDL phân tán, hướng đtg|12   |\n",
            "|Con người và môi trường |69   |\n",
            "|Ctrúc dữliệu & giảithuật|1084 |\n",
            "|Công nghệ phần mềm      |1130 |\n",
            "|Công nghệ vật liệu đcươg|1    |\n",
            "|Cơ học vật rắn & sóng cơ|1    |\n",
            "|Cơ học ứng dụng         |145  |\n",
            "|Cơ lý thuyết            |49   |\n",
            "|Cơ lưu chất             |46   |\n",
            "|Cơ sở kt điện-máy tính  |2    |\n",
            "|Cấu trúc dữliệu & Gthuật|179  |\n",
            "|Cấutrúc rời rạc cho KHMT|1102 |\n",
            "|Giaotiếp trong kinhdoanh|1    |\n",
            "|Giáo dục quốc phòng     |1    |\n",
            "|Giáo dục thể chất 1     |1164 |\n",
            "|Giáo dục thể chất 2     |1191 |\n",
            "|Giáo dục thể chất 3     |959  |\n",
            "|Giải tích 1             |1156 |\n",
            "|Giải tích 2             |1273 |\n",
            "|Giải tích hàm nhiều biến|1    |\n",
            "|Giải tích mạch          |73   |\n",
            "|Giải tích mạch cơ bản   |316  |\n",
            "|H/thống thiết bị di động|71   |\n",
            "|Hình họa                |1    |\n",
            "|Hóa học                 |1    |\n",
            "|Hóa học đại cương A     |28   |\n",
            "|Hóa đại cương           |1113 |\n",
            "|Hệ cơ sở dữ liệu        |846  |\n",
            "|Hệ quản trị cơsở dữ liệu|39   |\n",
            "|Hệ quảntrị cơ sở dữ liệu|189  |\n",
            "|Hệ thống nhúng          |112  |\n",
            "|Hệ thống số             |1211 |\n",
            "|Hệ thống thông minh     |71   |\n",
            "|Hệ điều hành            |1206 |\n",
            "|Học máy                 |94   |\n",
            "|Khai phá dữ liệu        |366  |\n",
            "|Kinh tế học đại cương   |200  |\n",
            "|Kinh tế kỹ thuật        |29   |\n",
            "|Kiến trúc máy tính      |1148 |\n",
            "|Kiểm tra phần mềm       |163  |\n",
            "|Kỹ năng gtiếp-ngành nghề|7    |\n",
            "|Kỹ năng mềm             |304  |\n",
            "|Kỹ năng xã hội A        |47   |\n",
            "|Kỹ năng xã hội B        |9    |\n",
            "|Kỹ năng xã hội C        |53   |\n",
            "|Kỹ năng xã hội D        |49   |\n",
            "|Kỹ năng xã hội E        |17   |\n",
            "|Kỹ năng xã hội F        |4    |\n",
            "|Kỹ năng xã hội G        |20   |\n",
            "|Kỹ năng xã hội H        |12   |\n",
            "|Kỹ thuật lập trình      |1314 |\n",
            "|Kỹ thuật số             |35   |\n",
            "|Kỹ thuật truyền số liệu |217  |\n",
            "|Kỹ thuật điện           |91   |\n",
            "|Kỹ thuật điện tử        |12   |\n",
            "|Kỹ thuật điện-điện tử   |1    |\n",
            "|Kỹnăng chnghiệp cho kỹsư|861  |\n",
            "|Linh kiện & mạch điện tử|168  |\n",
            "|Luận văn tốt nghiệp     |522  |\n",
            "|Luận văn tốt nghiệp (ktm|23   |\n",
            "|Luận văn tốt nghiệp(khmt|99   |\n",
            "|Lập &p/tích dự án cho ks|473  |\n",
            "|Lập trình game          |149  |\n",
            "|Lập trình hướng đốitượng|806  |\n",
            "|Lập trình web           |549  |\n",
            "|Lập và phân tích dự án  |3    |\n",
            "|Lậptrình hướng đối tượng|36   |\n",
            "|Mô hình hóa toán học    |784  |\n",
            "|Môi trường và con người |13   |\n",
            "|Mạch điện tử            |5    |\n",
            "|Mạch điện tử 1          |33   |\n",
            "|Mạng máy tính           |748  |\n",
            "|Mạng máy tính 1         |284  |\n",
            "|Mạng máy tính 2         |205  |\n",
            "|Mạng máy tính nâng cao  |34   |\n",
            "|Mạng xã hội và thông tin|39   |\n",
            "|Mật mã & an ninh mạng   |268  |\n",
            "|Mật mã và an ninh mạng  |352  |\n",
            "|N/ly Ngon Ngu Lap Trinh |490  |\n",
            "|Ng/lý ngôn ngữ lập trình|767  |\n",
            "|Nhiênliệu sinhhọc &skhối|1    |\n",
            "|Nhiệt học&cơ học chấtlưu|1    |\n",
            "|Nhiệt động lực học Kt   |2    |\n",
            "|Nhập môn kỹ thuật       |1    |\n",
            "|Nhập môn trítuệ nhân tạo|503  |\n",
            "|Nhập môn về kỹ thuật    |1    |\n",
            "|Nhập môn về lập trình   |3    |\n",
            "|Nhập môn điện toán      |1098 |\n",
            "|Những NgLý cơbản CN M-Lê|644  |\n",
            "|Những ngLý cơbản cn M-Lê|201  |\n",
            "|P/t ud trên t/bị di động|114  |\n",
            "|PT & Thiết kế giải thuật|322  |\n",
            "|Ph/luật ViệtNam đạicương|520  |\n",
            "|Pháp luật Việt Nam Đ/c  |24   |\n",
            "|Phát triển ứd trên tbdđ |118  |\n",
            "|Phân tích và thiết kế gt|381  |\n",
            "|Phân tích và thiết kế ht|139  |\n",
            "|Phương pháp tính        |1068 |\n",
            "|Pt & thiết kế hệ thống  |437  |\n",
            "|Pt ứd internet of things|54   |\n",
            "|Quản lý dự án cho kỹ sư |264  |\n",
            "|Quản lý dự án phần mềm  |99   |\n",
            "|Quản lý sản xuất cho ksư|25   |\n",
            "|Quản trị học            |1    |\n",
            "|Quản trị k/doanh cho ks |225  |\n",
            "|Quản trị đại cương      |18   |\n",
            "|Quảnlý sảnxuất cho kỹ sư|1    |\n",
            "|Quảntrị kinhdoanh cho ks|346  |\n",
            "|Sức bền vật liệu 1      |8    |\n",
            "|T/kế hệ thống cơ điện tử|1    |\n",
            "|T/kế vi mạch số với HDL |177  |\n",
            "|TN vi xửlý-vi điều khiển|95   |\n",
            "|TT Phần cứng máy tính   |1    |\n",
            "|TT công nghệ phần mềm   |266  |\n",
            "|ThKế llý với verilog    |198  |\n",
            "|Thiết kế luận lý 1      |47   |\n",
            "|Thiết kế luậnlý nâng cao|18   |\n",
            "|Thí nghiệm cơ lưu chất  |3    |\n",
            "|Thí nghiệm hóa đại cương|21   |\n",
            "|Thí nghiệm vật lý       |1084 |\n",
            "|Thương mại điện tử      |371  |\n",
            "|Thực tập công nghiệp 1  |18   |\n",
            "|Thực tập công nghiệp 2  |252  |\n",
            "|Thực tập công nghệ pm   |480  |\n",
            "|Thực tập tốt nghiệp     |448  |\n",
            "|Thựctập phầncứng máytính|195  |\n",
            "|Tin học đại cương       |1    |\n",
            "|Tinhọc ứ/dụng trong ktđc|1    |\n",
            "|Tiếng pháp 1            |1    |\n",
            "|Tiếng pháp 2            |1    |\n",
            "|Tiếng pháp 3            |1    |\n",
            "|Tiếng pháp 4            |1    |\n",
            "|Toán 1 (lý thuyết)      |1    |\n",
            "|Toán 3                  |2    |\n",
            "|Toán rời rạc 2          |54   |\n",
            "|Trí tuệ nhân tạo        |334  |\n",
            "|Tính toán song song     |113  |\n",
            "|Tư tưởng Hồ Chí Minh    |931  |\n",
            "|Vi xử lý - vi điều khiển|260  |\n",
            "|Vật lý - cơ học         |1    |\n",
            "|Vật lý 1                |883  |\n",
            "|Vật lý 2                |799  |\n",
            "|Vật lý bán dẫn          |1    |\n",
            "|Vật lý sóng             |1    |\n",
            "|Vẽ kỹ thuật             |9    |\n",
            "|XL s/song và hệ phân bố |183  |\n",
            "|Xác suất thống kê       |243  |\n",
            "|Xác suất và thống kê    |1268 |\n",
            "|Xử lý ngôn ngữ tự nhiên |90   |\n",
            "|Xử lý tín hiệu số       |345  |\n",
            "|Xử lý ảnh&thị giác mtính|54   |\n",
            "|Đ/lối c/mạng đảng csvn  |473  |\n",
            "|ĐAMH ngành ktmt         |91   |\n",
            "|ĐAMH thiết kế luận lý   |133  |\n",
            "|Điện - điện động học    |1    |\n",
            "|Điện tử                 |1    |\n",
            "|Đánhgiá hiệunăng hệ thốg|120  |\n",
            "|Đườnglối CM của ĐảngCSVN|335  |\n",
            "|Đại số                  |19   |\n",
            "|Đại số tuyến tính       |1124 |\n",
            "|Đề cương luận văn tn    |213  |\n",
            "|Đồ họa máy tính         |652  |\n",
            "|Đồ án môn học kỹthuật mt|101  |\n",
            "|ứ/dụng hệ thống nhúng nc|21   |\n",
            "|ứng dụng hệ thống nhúng |30   |\n",
            "+------------------------+-----+\n",
            "\n"
          ]
        }
      ],
      "source": [
        "df_subject.show(df_subject.count(), truncate = False)"
      ]
    },
    {
      "cell_type": "code",
      "execution_count": null,
      "metadata": {
        "id": "oKxTdcry5kF9"
      },
      "outputs": [],
      "source": []
    },
    {
      "attachments": {},
      "cell_type": "markdown",
      "metadata": {},
      "source": [
        "#### <b>Data cleaning and filtering</b>"
      ]
    },
    {
      "cell_type": "code",
      "execution_count": 17,
      "metadata": {
        "id": "mCKtoBXn6f_j"
      },
      "outputs": [],
      "source": [
        "# clear the grade value of 13, 21, RT\n",
        "def cleanSubjectPointDF(dataframe):\n",
        "    res = dataframe.filter(((dataframe['TKET'] >= 0) &(dataframe['TKET'] <= 10)))\n",
        "    return res\n",
        "\n",
        "def createSubjectPointDF(SubjectName):\n",
        "    res = df.filter((df['F_TENMHVN'] == SubjectName) & (df['F_MAKH'] == 'MT') & (df['NAMHOC'] >= 2015)) \\\n",
        "    .select(df.columns[3:4] + df.columns[12:13] + df.columns[16:29])\n",
        "    cleaned_res = cleanSubjectPointDF(res)\n",
        "    return cleaned_res"
      ]
    },
    {
      "cell_type": "code",
      "execution_count": 18,
      "metadata": {
        "id": "w0Kvelng6gCJ"
      },
      "outputs": [],
      "source": [
        "df_HTS = createSubjectPointDF('Hệ thống số')"
      ]
    },
    {
      "cell_type": "code",
      "execution_count": 19,
      "metadata": {
        "colab": {
          "base_uri": "https://localhost:8080/"
        },
        "id": "pvlhx1nP6gEA",
        "outputId": "73c60651-7722-4d92-a042-2c2cc7b68713"
      },
      "outputs": [
        {
          "data": {
            "text/plain": [
              "1107"
            ]
          },
          "execution_count": 19,
          "metadata": {},
          "output_type": "execute_result"
        }
      ],
      "source": [
        "df_HTS.count()"
      ]
    },
    {
      "cell_type": "code",
      "execution_count": 20,
      "metadata": {
        "id": "_Quuy1Xi6gIM"
      },
      "outputs": [],
      "source": [
        "df_NMDT = createSubjectPointDF('Nhập môn điện toán')"
      ]
    },
    {
      "cell_type": "code",
      "execution_count": 21,
      "metadata": {
        "colab": {
          "base_uri": "https://localhost:8080/"
        },
        "id": "TI8Tk7E46gKf",
        "outputId": "abddf962-d81a-4b82-a2ee-498e8be67d28"
      },
      "outputs": [
        {
          "data": {
            "text/plain": [
              "1082"
            ]
          },
          "execution_count": 21,
          "metadata": {},
          "output_type": "execute_result"
        }
      ],
      "source": [
        "df_NMDT.count()"
      ]
    },
    {
      "cell_type": "code",
      "execution_count": 22,
      "metadata": {
        "id": "YVmGUN916gMz"
      },
      "outputs": [],
      "source": [
        "df_CTRR = createSubjectPointDF('Cấutrúc rời rạc cho KHMT')"
      ]
    },
    {
      "cell_type": "code",
      "execution_count": 23,
      "metadata": {
        "colab": {
          "base_uri": "https://localhost:8080/"
        },
        "id": "8HsYwzAS6gO-",
        "outputId": "106565f8-7d4d-4053-e1c4-55a089dc7c00"
      },
      "outputs": [
        {
          "data": {
            "text/plain": [
              "1100"
            ]
          },
          "execution_count": 23,
          "metadata": {},
          "output_type": "execute_result"
        }
      ],
      "source": [
        "df_CTRR.count()"
      ]
    },
    {
      "cell_type": "code",
      "execution_count": 24,
      "metadata": {
        "id": "vpZB5cAV6gRX"
      },
      "outputs": [],
      "source": [
        "df_KTLT = createSubjectPointDF('Kỹ thuật lập trình')"
      ]
    },
    {
      "cell_type": "code",
      "execution_count": 25,
      "metadata": {
        "colab": {
          "base_uri": "https://localhost:8080/"
        },
        "id": "jr50xcHH6gTa",
        "outputId": "1e1437ae-935c-4585-db7d-1afff8da8a74"
      },
      "outputs": [
        {
          "data": {
            "text/plain": [
              "1306"
            ]
          },
          "execution_count": 25,
          "metadata": {},
          "output_type": "execute_result"
        }
      ],
      "source": [
        "df_KTLT.count()"
      ]
    },
    {
      "cell_type": "code",
      "execution_count": 26,
      "metadata": {
        "id": "mNzuIc4y6gW-"
      },
      "outputs": [],
      "source": [
        "df_CTDLGT1 = createSubjectPointDF('Ctrúc dữliệu & giảithuật')\n",
        "df_CTDLGT2 = createSubjectPointDF('Cấu trúc dữliệu & Gthuật')\n",
        "df_CTDLGT = df_CTDLGT1.union(df_CTDLGT2)"
      ]
    },
    {
      "cell_type": "code",
      "execution_count": 27,
      "metadata": {
        "colab": {
          "base_uri": "https://localhost:8080/"
        },
        "id": "WtfSDOpI5kP5",
        "outputId": "e5eac8a4-dd99-471e-b875-1c5f6faf1db4"
      },
      "outputs": [
        {
          "data": {
            "text/plain": [
              "1261"
            ]
          },
          "execution_count": 27,
          "metadata": {},
          "output_type": "execute_result"
        }
      ],
      "source": [
        "df_CTDLGT.count()"
      ]
    },
    {
      "cell_type": "code",
      "execution_count": 28,
      "metadata": {
        "id": "XfBFN_qi6_86"
      },
      "outputs": [],
      "source": [
        "df_LTHDT1 = createSubjectPointDF('Lậptrình hướng đối tượng')\n",
        "df_LTHDT2 = createSubjectPointDF('Lập trình hướng đốitượng')\n",
        "df_LTHDT = df_LTHDT1.union(df_LTHDT2)"
      ]
    },
    {
      "cell_type": "code",
      "execution_count": 29,
      "metadata": {
        "colab": {
          "base_uri": "https://localhost:8080/"
        },
        "id": "cBn2fdUg7ADD",
        "outputId": "18d95b6d-1119-42d4-a4b8-a4b2aadd2c36"
      },
      "outputs": [
        {
          "data": {
            "text/plain": [
              "840"
            ]
          },
          "execution_count": 29,
          "metadata": {},
          "output_type": "execute_result"
        }
      ],
      "source": [
        "df_LTHDT.count()"
      ]
    },
    {
      "cell_type": "code",
      "execution_count": 30,
      "metadata": {
        "id": "djEHKW577AFq"
      },
      "outputs": [],
      "source": [
        "df_KTMT = createSubjectPointDF('Kiến trúc máy tính')"
      ]
    },
    {
      "cell_type": "code",
      "execution_count": 31,
      "metadata": {
        "colab": {
          "base_uri": "https://localhost:8080/"
        },
        "id": "izPhW4TR7AIg",
        "outputId": "7ff3ea99-9f2c-4285-8a18-0c9e4fac248b"
      },
      "outputs": [
        {
          "data": {
            "text/plain": [
              "1070"
            ]
          },
          "execution_count": 31,
          "metadata": {},
          "output_type": "execute_result"
        }
      ],
      "source": [
        "df_KTMT.count()"
      ]
    },
    {
      "cell_type": "code",
      "execution_count": 32,
      "metadata": {
        "id": "zV_Ic5Lp7AL8"
      },
      "outputs": [],
      "source": [
        "df_HTS.createOrReplaceTempView(\"HTS\")\n",
        "df_NMDT.createOrReplaceTempView(\"NMDT\")\n",
        "df_CTRR.createOrReplaceTempView(\"CTRR\")\n",
        "df_KTLT.createOrReplaceTempView(\"KTLT\")"
      ]
    },
    {
      "cell_type": "code",
      "execution_count": 33,
      "metadata": {
        "id": "KdP5zuf95kXW"
      },
      "outputs": [],
      "source": [
        "df_CTDLGT.createOrReplaceTempView(\"CTDLGT\")\n",
        "df_KTMT.createOrReplaceTempView(\"KTMT\")\n",
        "df_LTHDT.createOrReplaceTempView(\"LTHDT\")"
      ]
    },
    {
      "cell_type": "code",
      "execution_count": 34,
      "metadata": {
        "id": "UEgoBAGA7hU4"
      },
      "outputs": [],
      "source": [
        "df_MHH = createSubjectPointDF('Mô hình hóa toán học')\n",
        "df_HDH = createSubjectPointDF('Hệ điều hành')\n",
        "df_HCSDL = createSubjectPointDF('Hệ cơ sở dữ liệu')\n",
        "\n",
        "df_CNPM = createSubjectPointDF('Công nghệ phần mềm')\n",
        "df_MMT = createSubjectPointDF('Mạng máy tính')\n",
        "\n",
        "df_NLNNLT1 = createSubjectPointDF('Ng/lý ngôn ngữ lập trình')\n",
        "df_NLNNLT2 = createSubjectPointDF('N/ly Ngon Ngu Lap Trinh')\n",
        "df_NLNNLT = df_NLNNLT1.union(df_NLNNLT2)\n",
        "\n",
        "df_PTTKGT = createSubjectPointDF('Phân tích và thiết kế gt').union(createSubjectPointDF('PT & Thiết kế giải thuật'))"
      ]
    },
    {
      "cell_type": "code",
      "execution_count": 35,
      "metadata": {
        "id": "pwj5Xoh-7hYh"
      },
      "outputs": [],
      "source": [
        "df_MHH.createOrReplaceTempView(\"MHH\")\n",
        "df_HDH.createOrReplaceTempView(\"HDH\")\n",
        "df_HCSDL.createOrReplaceTempView(\"HCSDL\")\n",
        "\n",
        "df_CNPM.createOrReplaceTempView(\"CNPM\")\n",
        "df_MMT.createOrReplaceTempView(\"MMT\")\n",
        "df_NLNNLT.createOrReplaceTempView(\"NLNNLT\")\n",
        "\n",
        "df_PTTKGT.createOrReplaceTempView(\"PTTKGT\")"
      ]
    },
    {
      "cell_type": "code",
      "execution_count": null,
      "metadata": {
        "id": "FkvYtMsa7hc2"
      },
      "outputs": [],
      "source": []
    },
    {
      "cell_type": "code",
      "execution_count": 43,
      "metadata": {
        "id": "W91J4Wwh7hg8"
      },
      "outputs": [],
      "source": [
        "diemTK_nam3 = spark.sql(\"select \\\n",
        "          HTS.MASV1 as MSSV, NMDT.TKET as NMDT, CTRR.TKET as CTRR, HTS.TKET as HTS, KTLT.TKET as KTLT, \\\n",
        "          CTDLGT.TKET as CTDLGT, KTMT.TKET as KTMT, LTHDT.TKET as LTHDT, \\\n",
        "          MHH.TKET as MHH, HCSDL.TKET as HCSDL, HDH.TKET as HDH, \\\n",
        "          MMT.TKET as MMT, CNPM.TKET as CNPM, NLNNLT.TKET as NLNNLT, PTTKGT.TKET as PTTKGT \\\n",
        "          from HTS, NMDT, KTLT, CTRR, CTDLGT, KTMT, LTHDT, MHH, HCSDL, HDH, MMT, CNPM, NLNNLT, PTTKGT \\\n",
        "          where HTS.MASV1 = NMDT.MASV1 and NMDT.MASV1 = CTRR.MASV1 and CTRR.MASV1 = KTLT.MASV1 \\\n",
        "          and KTLT.MASV1 = CTDLGT.MASV1 and CTDLGT.MASV1 = KTMT.MASV1 and KTMT.MASV1 = LTHDT.MASV1 \\\n",
        "          and LTHDT.MASV1 = MHH.MASV1 and MHH.MASV1 = HCSDL.MASV1 and HCSDL.MASV1 = HDH.MASV1 \\\n",
        "          and HDH.MASV1 = MMT.MASV1 and MMT.MASV1 = CNPM.MASV1 and CNPM.MASV1 = NLNNLT.MASV1 \\\n",
        "          and NLNNLT.MASV1 = PTTKGT.MASV1\")"
      ]
    },
    {
      "cell_type": "code",
      "execution_count": 44,
      "metadata": {
        "colab": {
          "base_uri": "https://localhost:8080/"
        },
        "id": "r7R1UqDs7hkh",
        "outputId": "8f14c040-8c36-48d7-a64c-833167bdedf1"
      },
      "outputs": [
        {
          "data": {
            "text/plain": [
              "440"
            ]
          },
          "execution_count": 44,
          "metadata": {},
          "output_type": "execute_result"
        }
      ],
      "source": [
        "diemTK_nam3.count()"
      ]
    },
    {
      "cell_type": "code",
      "execution_count": 45,
      "metadata": {
        "id": "V_z1Y5A67hod"
      },
      "outputs": [],
      "source": [
        "diemTK_nam3.createOrReplaceTempView('diemTK_nam3')"
      ]
    },
    {
      "cell_type": "code",
      "execution_count": 46,
      "metadata": {
        "id": "V7WCs82v7hsx"
      },
      "outputs": [],
      "source": [
        "maxdiemTK_nam3 = spark.sql(\"select MSSV, max(NMDT) as NMDT, max(CTRR) as CTRR, max(HTS) as HTS, max(KTLT) as KTLT, \\\n",
        "          max(CTDLGT) as CTDLGT, max(KTMT) as KTMT, max(LTHDT) as LTHDT, \\\n",
        "          max(MHH) as MHH, max(HCSDL) as HCSDL, max(HDH) as HDH, \\\n",
        "          max(MMT) as MMT, max(CNPM) as CNPM, max(NLNNLT) as NLNNLT, max(PTTKGT) as PTTKGT \\\n",
        "          from diemTK_nam3 group by MSSV\")"
      ]
    },
    {
      "cell_type": "code",
      "execution_count": 47,
      "metadata": {
        "colab": {
          "base_uri": "https://localhost:8080/"
        },
        "id": "7EfHmaBT7hwP",
        "outputId": "a748519f-9c8c-441c-985a-8cc2541e69ef"
      },
      "outputs": [
        {
          "data": {
            "text/plain": [
              "122"
            ]
          },
          "execution_count": 47,
          "metadata": {},
          "output_type": "execute_result"
        }
      ],
      "source": [
        "maxdiemTK_nam3.count()"
      ]
    },
    {
      "cell_type": "code",
      "execution_count": 51,
      "metadata": {
        "colab": {
          "base_uri": "https://localhost:8080/"
        },
        "id": "IHjMcbDiDYgb",
        "outputId": "ae1bde40-3788-4bd5-b85a-719d9e81b6ad"
      },
      "outputs": [
        {
          "name": "stdout",
          "output_type": "stream",
          "text": [
            "+--------+----+----+---+----+------+----+-----+---+-----+---+---+----+------+------+\n",
            "|    MSSV|NMDT|CTRR|HTS|KTLT|CTDLGT|KTMT|LTHDT|MHH|HCSDL|HDH|MMT|CNPM|NLNNLT|PTTKGT|\n",
            "+--------+----+----+---+----+------+----+-----+---+-----+---+---+----+------+------+\n",
            "|   75321| 6.5| 6.5|  5|   6|   5.5| 6.5|  7.5|  7|    8|6.5|8.0| 7.0|   5.5|   9.0|\n",
            "| 2683782| 7.5|   8|6.5|   9|   8.5| 7.5|    7|8.5|    8|  7|8.5| 8.5|   7.0|   7.0|\n",
            "| 4045426| 8.5| 8.5|  6|   8|   7.5| 8.5|    9|8.5|  7.5|8.5|8.5| 6.5|   7.5|   8.5|\n",
            "| 4536867|   8|   8|  9| 7.5|     9| 9.5|  9.5|9.5|    9|9.5|9.5| 8.0|   9.5|  10.0|\n",
            "| 5763862|   7|   6|  8|   6|   7.5|   7|  6.5|8.5|  7.5|8.5|7.5| 6.5|   5.0|   7.0|\n",
            "| 6024723| 7.5| 7.5|7.5|   8|   8.5| 7.5|    8|  8|    7|  8|7.5| 7.0|   8.5|   9.0|\n",
            "| 6136739| 8.5|   7|  7| 8.5|   5.0| 5.5|  8.5|6.5|  7.5|8.0|6.5| 6.0|   5.0|   9.0|\n",
            "| 7675525| 8.5| 7.5|  9|   8|   8.5| 8.5|    9|9.5|    9|8.5|9.0| 8.0|   7.0|   8.5|\n",
            "|10372040| 6.5|   6|4.5| 2.5|   4.5|   6|  6.5|  6|  6.0|5.0|6.5| 5.5|   3.5|   6.5|\n",
            "|10520631|   5| 7.5|4.5|   5|   4.5| 3.5|  4.5|  6|  4.5|6.5|6.5| 5.5|   5.0|   8.0|\n",
            "|11968298| 8.5| 8.5|7.5|   8|   8.5| 8.5|    7|  8|    8|7.5|8.0| 7.5|   5.5|   7.5|\n",
            "|12118103| 6.5|   6|6.5| 7.5|     8| 7.5|  8.5|  7|  8.5|  9|9.0| 8.0|   7.5|  10.0|\n",
            "|12201042| 7.5|   7|7.5| 7.5|     8|   8|    9|  9|  7.5|6.5|8.5| 9.0|   6.5|   8.5|\n",
            "|12515604|   7|   7|  6| 5.5|   6.5|   5|    7|  6|    6|6.5|7.0| 7.0|   1.0|   8.5|\n",
            "|12540524| 6.5| 7.5|7.5|   7|     8| 7.5|  9.5| 10|  8.5|8.5|9.5| 8.5|   8.5|   9.5|\n",
            "|12967654| 7.5|   7|6.5|   8|   6.5| 7.5|  8.5|8.5|    8|  7|7.5| 8.0|   5.0|   8.5|\n",
            "|13000115|   7| 5.5|6.5|   9|   5.5| 6.5|    8|  6|    6|7.5|7.0| 7.0|   5.5|   8.0|\n",
            "|13793340|   7| 7.5|  7| 7.5|     5|   5|  6.5|6.5|  5.5|  7|7.5| 6.5|   2.5|   8.5|\n",
            "|14495747|   7|   6|3.5|   5|   3.5| 3.5|    6|  7|  4.5|  5|6.5| 5.0|   1.5|   5.5|\n",
            "|15401017| 8.5|   8|  6|   8|     8|   8|  7.5|7.5|  8.5|7.5|8.5| 8.0|   8.5|   8.5|\n",
            "+--------+----+----+---+----+------+----+-----+---+-----+---+---+----+------+------+\n",
            "only showing top 20 rows\n",
            "\n"
          ]
        }
      ],
      "source": [
        "maxdiemTK_nam3.show()"
      ]
    },
    {
      "cell_type": "code",
      "execution_count": 48,
      "metadata": {
        "id": "lWnf9x5K7hzt"
      },
      "outputs": [],
      "source": [
        "maxdiemTK_nam3.write.csv('diemTK_nam3.csv', header = True)"
      ]
    },
    {
      "cell_type": "code",
      "execution_count": null,
      "metadata": {
        "id": "wow8oGCG5kfN"
      },
      "outputs": [],
      "source": []
    },
    {
      "cell_type": "code",
      "execution_count": 49,
      "metadata": {
        "id": "7aoZCuiUClyc"
      },
      "outputs": [],
      "source": [
        "diemTK_nam2 = spark.sql(\"select \\\n",
        "          HTS.MASV1 as MSSV, NMDT.TKET as NMDT, CTRR.TKET as CTRR, HTS.TKET as HTS, KTLT.TKET as KTLT, \\\n",
        "          CTDLGT.TKET as CTDLGT, KTMT.TKET as KTMT, LTHDT.TKET as LTHDT, \\\n",
        "          MHH.TKET as MHH, HCSDL.TKET as HCSDL, HDH.TKET as HDH \\\n",
        "          from HTS, NMDT, KTLT, CTRR, CTDLGT, KTMT, LTHDT, MHH, HCSDL, HDH \\\n",
        "          where HTS.MASV1 = NMDT.MASV1 and NMDT.MASV1 = CTRR.MASV1 and CTRR.MASV1 = KTLT.MASV1 \\\n",
        "          and KTLT.MASV1 = CTDLGT.MASV1 and CTDLGT.MASV1 = KTMT.MASV1 and KTMT.MASV1 = LTHDT.MASV1 \\\n",
        "          and LTHDT.MASV1 = MHH.MASV1 and MHH.MASV1 = HCSDL.MASV1 and HCSDL.MASV1 = HDH.MASV1\")"
      ]
    },
    {
      "cell_type": "code",
      "execution_count": 50,
      "metadata": {
        "id": "4eN76V1QCl0I"
      },
      "outputs": [],
      "source": [
        "diemTK_nam2.createOrReplaceTempView('diemTK_nam2')"
      ]
    },
    {
      "cell_type": "code",
      "execution_count": 55,
      "metadata": {
        "id": "7q6ufh2wCl1s"
      },
      "outputs": [],
      "source": [
        "maxdiemTK_nam2 = spark.sql(\"select MSSV, max(NMDT) as NMDT, max(CTRR) as CTRR, max(HTS) as HTS, max(KTLT) as KTLT, \\\n",
        "          max(CTDLGT) as CTDLGT, max(KTMT) as KTMT, max(LTHDT) as LTHDT, \\\n",
        "          max(MHH) as MHH, max(HCSDL) as HCSDL, max(HDH) as HDH \\\n",
        "          from diemTK_nam2 group by MSSV\")"
      ]
    },
    {
      "cell_type": "code",
      "execution_count": 56,
      "metadata": {
        "colab": {
          "base_uri": "https://localhost:8080/"
        },
        "id": "-casMTiQCl3A",
        "outputId": "6b80b62f-7502-4621-a881-e6232fe31d7c"
      },
      "outputs": [
        {
          "data": {
            "text/plain": [
              "359"
            ]
          },
          "execution_count": 56,
          "metadata": {},
          "output_type": "execute_result"
        }
      ],
      "source": [
        "maxdiemTK_nam2.count()"
      ]
    },
    {
      "cell_type": "code",
      "execution_count": 57,
      "metadata": {
        "colab": {
          "base_uri": "https://localhost:8080/"
        },
        "id": "8mF4YFs8Cl50",
        "outputId": "f8bf097c-a86a-40e9-cf38-47d3ae380fdf"
      },
      "outputs": [
        {
          "name": "stdout",
          "output_type": "stream",
          "text": [
            "+-------+----+----+---+----+------+----+-----+----+-----+---+\n",
            "|   MSSV|NMDT|CTRR|HTS|KTLT|CTDLGT|KTMT|LTHDT| MHH|HCSDL|HDH|\n",
            "+-------+----+----+---+----+------+----+-----+----+-----+---+\n",
            "|  75321| 6.5| 6.5|  5|   6|   5.5| 6.5|  7.5|   7|    8|6.5|\n",
            "|  81657| 7.5|   7|5.5| 7.0|   7.0| 7.5|  7.5| 6.0|  7.5|7.5|\n",
            "| 209312|   7| 6.5|5.5| 7.5|   4.5| 7.0|  0.0|   7|    6|  8|\n",
            "| 583833| 6.5|   7|  6| 5.5|   6.5|   7|    8|   7|    6|  7|\n",
            "|1509861| 7.5|   5|  5| 9.0|   3.5| 6.5|  6.0| 7.0|  7.5|6.5|\n",
            "|2047807| 6.5| 6.5|7.5| 9.5|   8.5| 6.5|  8.5| 7.5|  8.5|8.5|\n",
            "|2223555|   9|   8|9.5|10.0|   9.0| 8.0|  8.0|10.0|  8.0|8.5|\n",
            "|2240989| 8.5|   7|  7| 7.0|   6.0| 8.0|  7.0| 6.5|  7.5|8.0|\n",
            "|2260878| 7.5| 8.5|8.5|10.0|   8.5| 8.0|  8.0| 8.5|  0.0|9.0|\n",
            "|2274996| 5.5|   7|  7| 7.5|   7.5|   6|    8|   7|  7.5|7.5|\n",
            "|2343848|   8|   7|  6| 7.5|   5.0| 7.0|  6.5| 6.5|  0.0|5.5|\n",
            "|2683782| 7.5|   8|6.5|   9|   8.5| 7.5|    7| 8.5|    8|  7|\n",
            "|3095962|   7| 6.5|  6| 6.5|   7.5|   6|  7.5| 5.5|  7.5|6.5|\n",
            "|3419145| 7.5| 6.5|  5|   6|     1|   5|    7|   6|  6.0|  7|\n",
            "|3546806| 8.5| 7.5|  7| 7.0|   6.5| 7.0|  7.5| 7.0|  7.0|7.0|\n",
            "|4045426| 8.5| 8.5|  6|   8|   7.5| 8.5|    9| 8.5|  7.5|8.5|\n",
            "|4536867|   8|   8|  9| 7.5|     9| 9.5|  9.5| 9.5|    9|9.5|\n",
            "|4650139| 8.5|   8|8.5|10.0|   9.5| 8.5|  8.5| 8.5|  8.5|9.0|\n",
            "|5665575| 5.5| 5.5|5.0|   6|   6.5|   6|  6.5| 6.5|    7|  8|\n",
            "|5763862|   7|   6|  8|   6|   7.5|   7|  6.5| 8.5|  7.5|8.5|\n",
            "+-------+----+----+---+----+------+----+-----+----+-----+---+\n",
            "only showing top 20 rows\n",
            "\n"
          ]
        }
      ],
      "source": [
        "maxdiemTK_nam2.show()"
      ]
    },
    {
      "cell_type": "code",
      "execution_count": 58,
      "metadata": {
        "id": "rBvWFPIzCl-F"
      },
      "outputs": [],
      "source": [
        "maxdiemTK_nam2.createOrReplaceTempView('maxdiemTK_nam2')"
      ]
    },
    {
      "cell_type": "code",
      "execution_count": null,
      "metadata": {
        "id": "i3qzeWESCl_T"
      },
      "outputs": [],
      "source": []
    },
    {
      "cell_type": "code",
      "execution_count": 59,
      "metadata": {
        "id": "vm43MnFxCmBd"
      },
      "outputs": [],
      "source": [
        "df_NMAI = createSubjectPointDF('Nhập môn trítuệ nhân tạo')\n",
        "df_DHMT = createSubjectPointDF('Đồ họa máy tính')\n",
        "df_MMANM = createSubjectPointDF('Mật mã & an ninh mạng').union(createSubjectPointDF('Mật mã và an ninh mạng'))"
      ]
    },
    {
      "cell_type": "code",
      "execution_count": 60,
      "metadata": {
        "id": "y12PAduKCmEF"
      },
      "outputs": [],
      "source": [
        "df_NMAI.createOrReplaceTempView(\"NMAI\")\n",
        "df_DHMT.createOrReplaceTempView(\"DHMT\")\n",
        "df_MMANM.createOrReplaceTempView(\"MMANM\")"
      ]
    },
    {
      "cell_type": "code",
      "execution_count": 61,
      "metadata": {
        "colab": {
          "base_uri": "https://localhost:8080/"
        },
        "id": "bd3W9of7CmGq",
        "outputId": "484e34ab-24bf-4d04-f9bc-8876ea206cee"
      },
      "outputs": [
        {
          "data": {
            "text/plain": [
              "159"
            ]
          },
          "execution_count": 61,
          "metadata": {},
          "output_type": "execute_result"
        }
      ],
      "source": [
        "res_NMAI = spark.sql(\"select NMAI.MASV1 as MSSV, NMAI.TKET as NMTTNT from NMAI, maxdiemTK_nam2 where NMAI.MASV1 = maxdiemTK_nam2.MSSV\")\n",
        "res_NMAI.count()"
      ]
    },
    {
      "cell_type": "code",
      "execution_count": 62,
      "metadata": {
        "colab": {
          "base_uri": "https://localhost:8080/"
        },
        "id": "tVQKCH02CmJJ",
        "outputId": "bb8e242b-353c-4382-fc4a-5c7cb729f003"
      },
      "outputs": [
        {
          "data": {
            "text/plain": [
              "120"
            ]
          },
          "execution_count": 62,
          "metadata": {},
          "output_type": "execute_result"
        }
      ],
      "source": [
        "res_DHMT = spark.sql(\"select DHMT.MASV1 as MSSV, DHMT.TKET as DHMT from DHMT, maxdiemTK_nam2 where DHMT.MASV1 = maxdiemTK_nam2.MSSV\")\n",
        "res_DHMT.count()"
      ]
    },
    {
      "cell_type": "code",
      "execution_count": 63,
      "metadata": {
        "colab": {
          "base_uri": "https://localhost:8080/"
        },
        "id": "F8VACSALCmL1",
        "outputId": "6f31de01-ddfb-4bb6-8c9d-7afcccaf40c0"
      },
      "outputs": [
        {
          "data": {
            "text/plain": [
              "92"
            ]
          },
          "execution_count": 63,
          "metadata": {},
          "output_type": "execute_result"
        }
      ],
      "source": [
        "res_MMANM = spark.sql(\"select MMANM.MASV1 as MSSV, MMANM.TKET as MMANM from MMANM, maxdiemTK_nam2 where MMANM.MASV1 = maxdiemTK_nam2.MSSV\")\n",
        "res_MMANM.count()"
      ]
    },
    {
      "cell_type": "code",
      "execution_count": 64,
      "metadata": {
        "id": "S-kzJRNMCmOa"
      },
      "outputs": [],
      "source": [
        "res_NMAI.createOrReplaceTempView('res_NMAI')\n",
        "res_DHMT.createOrReplaceTempView('res_DHMT')\n",
        "res_MMANM.createOrReplaceTempView('res_MMANM')"
      ]
    },
    {
      "cell_type": "code",
      "execution_count": 65,
      "metadata": {
        "id": "kYoB5WHKCmRE"
      },
      "outputs": [],
      "source": [
        "diemTK_BB_TC = spark.sql(\"select maxdiemTK_nam2.MSSV, NMDT,CTRR,HTS,KTLT,CTDLGT,KTMT,LTHDT,MHH,HCSDL,HDH, NMTTNT, DHMT, MMANM \\\n",
        "          from maxdiemTK_nam2 left join res_NMAI on maxdiemTK_nam2.MSSV = res_NMAI.MSSV \\\n",
        "          left join res_DHMT on maxdiemTK_nam2.MSSV = res_DHMT.MSSV \\\n",
        "          left join res_MMANM on maxdiemTK_nam2.MSSV = res_MMANM.MSSV\")"
      ]
    },
    {
      "cell_type": "code",
      "execution_count": 66,
      "metadata": {
        "colab": {
          "base_uri": "https://localhost:8080/"
        },
        "id": "HMiBz-UBCmTb",
        "outputId": "83699876-3462-419c-c6d1-7f57bb820885"
      },
      "outputs": [
        {
          "name": "stdout",
          "output_type": "stream",
          "text": [
            "+-------+----+----+---+----+------+----+-----+----+-----+---+------+----+-----+\n",
            "|   MSSV|NMDT|CTRR|HTS|KTLT|CTDLGT|KTMT|LTHDT| MHH|HCSDL|HDH|NMTTNT|DHMT|MMANM|\n",
            "+-------+----+----+---+----+------+----+-----+----+-----+---+------+----+-----+\n",
            "|  75321| 6.5| 6.5|  5|   6|   5.5| 6.5|  7.5|   7|    8|6.5|   5.0|null|  7.0|\n",
            "|  81657| 7.5|   7|5.5| 7.0|   7.0| 7.5|  7.5| 6.0|  7.5|7.5|   5.0|null| null|\n",
            "| 209312|   7| 6.5|5.5| 7.5|   4.5| 7.0|  0.0|   7|    6|  8|   4.0| 0.0| null|\n",
            "| 583833| 6.5|   7|  6| 5.5|   6.5|   7|    8|   7|    6|  7|   8.5| 6.0|  7.5|\n",
            "|1509861| 7.5|   5|  5| 9.0|   3.5| 6.5|  6.0| 7.0|  7.5|6.5|  null|null| null|\n",
            "|2047807| 6.5| 6.5|7.5| 9.5|   8.5| 6.5|  8.5| 7.5|  8.5|8.5|   9.0| 8.5| null|\n",
            "|2223555|   9|   8|9.5|10.0|   9.0| 8.0|  8.0|10.0|  8.0|8.5|  null|null| null|\n",
            "|2240989| 8.5|   7|  7| 7.0|   6.0| 8.0|  7.0| 6.5|  7.5|8.0|  null|null| null|\n",
            "|2260878| 7.5| 8.5|8.5|10.0|   8.5| 8.0|  8.0| 8.5|  0.0|9.0|  null|null| null|\n",
            "|2274996| 5.5|   7|  7| 7.5|   7.5|   6|    8|   7|  7.5|7.5|  10.0| 8.0|  7.5|\n",
            "|2343848|   8|   7|  6| 7.5|   5.0| 7.0|  6.5| 6.5|  0.0|5.5|  null|null| null|\n",
            "|2683782| 7.5|   8|6.5|   9|   8.5| 7.5|    7| 8.5|    8|  7|  null| 7.0| null|\n",
            "|3095962|   7| 6.5|  6| 6.5|   7.5|   6|  7.5| 5.5|  7.5|6.5|   7.0| 6.0| null|\n",
            "|3419145| 7.5| 6.5|  5|   6|     1|   5|    7|   6|  6.0|  7|  null|null| null|\n",
            "|3546806| 8.5| 7.5|  7| 7.0|   6.5| 7.0|  7.5| 7.0|  7.0|7.0|  null|null| null|\n",
            "|4045426| 8.5| 8.5|  6|   8|   7.5| 8.5|    9| 8.5|  7.5|8.5|  null| 8.5| null|\n",
            "|4536867|   8|   8|  9| 7.5|     9| 9.5|  9.5| 9.5|    9|9.5|  null|10.0| 10.0|\n",
            "|4650139| 8.5|   8|8.5|10.0|   9.5| 8.5|  8.5| 8.5|  8.5|9.0|  null|null| null|\n",
            "|5665575| 5.5| 5.5|5.0|   6|   6.5|   6|  6.5| 6.5|    7|  8|   6.0| 6.5| null|\n",
            "|5763862|   7|   6|  8|   6|   7.5|   7|  6.5| 8.5|  7.5|8.5|  null|null|  7.5|\n",
            "+-------+----+----+---+----+------+----+-----+----+-----+---+------+----+-----+\n",
            "only showing top 20 rows\n",
            "\n"
          ]
        }
      ],
      "source": [
        "diemTK_BB_TC.show()"
      ]
    },
    {
      "cell_type": "code",
      "execution_count": null,
      "metadata": {
        "id": "mnd6v5AyKXbV"
      },
      "outputs": [],
      "source": []
    },
    {
      "cell_type": "code",
      "execution_count": 67,
      "metadata": {
        "id": "4eum9nTmKXov"
      },
      "outputs": [],
      "source": [
        "from pyspark.sql.functions import when\n",
        "\n",
        "ndf = diemTK_BB_TC.withColumn(\"NMTTNT\", \\\n",
        "              when(diemTK_BB_TC[\"NMTTNT\"] >= 0, 1).otherwise(0))\n",
        "ndf = ndf.withColumn(\"DHMT\", when(ndf[\"DHMT\"] >= 0, 1).otherwise(0))\n",
        "ndf = ndf.withColumn(\"MMANM\", when(ndf[\"MMANM\"] >= 0, 1).otherwise(0))"
      ]
    },
    {
      "cell_type": "code",
      "execution_count": 68,
      "metadata": {
        "colab": {
          "base_uri": "https://localhost:8080/"
        },
        "id": "gZHTNA2PKXwo",
        "outputId": "7e1ec5e9-31d5-4c90-9937-fa69b5dd3054"
      },
      "outputs": [
        {
          "data": {
            "text/plain": [
              "359"
            ]
          },
          "execution_count": 68,
          "metadata": {},
          "output_type": "execute_result"
        }
      ],
      "source": [
        "ndf.count()"
      ]
    },
    {
      "cell_type": "code",
      "execution_count": 69,
      "metadata": {
        "colab": {
          "base_uri": "https://localhost:8080/"
        },
        "id": "KqYiW7MnKX32",
        "outputId": "1ba063f1-937b-4fe2-c7c4-1a8796b957eb"
      },
      "outputs": [
        {
          "name": "stdout",
          "output_type": "stream",
          "text": [
            "+--------+----+----+---+----+------+----+-----+----+-----+---+------+----+-----+\n",
            "|    MSSV|NMDT|CTRR|HTS|KTLT|CTDLGT|KTMT|LTHDT| MHH|HCSDL|HDH|NMTTNT|DHMT|MMANM|\n",
            "+--------+----+----+---+----+------+----+-----+----+-----+---+------+----+-----+\n",
            "|   75321| 6.5| 6.5|  5|   6|   5.5| 6.5|  7.5|   7|    8|6.5|     1|   0|    1|\n",
            "|   81657| 7.5|   7|5.5| 7.0|   7.0| 7.5|  7.5| 6.0|  7.5|7.5|     1|   0|    0|\n",
            "|  209312|   7| 6.5|5.5| 7.5|   4.5| 7.0|  0.0|   7|    6|  8|     1|   1|    0|\n",
            "|  583833| 6.5|   7|  6| 5.5|   6.5|   7|    8|   7|    6|  7|     1|   1|    1|\n",
            "| 1509861| 7.5|   5|  5| 9.0|   3.5| 6.5|  6.0| 7.0|  7.5|6.5|     0|   0|    0|\n",
            "| 2047807| 6.5| 6.5|7.5| 9.5|   8.5| 6.5|  8.5| 7.5|  8.5|8.5|     1|   1|    0|\n",
            "| 2223555|   9|   8|9.5|10.0|   9.0| 8.0|  8.0|10.0|  8.0|8.5|     0|   0|    0|\n",
            "| 2240989| 8.5|   7|  7| 7.0|   6.0| 8.0|  7.0| 6.5|  7.5|8.0|     0|   0|    0|\n",
            "| 2260878| 7.5| 8.5|8.5|10.0|   8.5| 8.0|  8.0| 8.5|  0.0|9.0|     0|   0|    0|\n",
            "| 2274996| 5.5|   7|  7| 7.5|   7.5|   6|    8|   7|  7.5|7.5|     1|   1|    1|\n",
            "| 2343848|   8|   7|  6| 7.5|   5.0| 7.0|  6.5| 6.5|  0.0|5.5|     0|   0|    0|\n",
            "| 2683782| 7.5|   8|6.5|   9|   8.5| 7.5|    7| 8.5|    8|  7|     0|   1|    0|\n",
            "| 3095962|   7| 6.5|  6| 6.5|   7.5|   6|  7.5| 5.5|  7.5|6.5|     1|   1|    0|\n",
            "| 3419145| 7.5| 6.5|  5|   6|     1|   5|    7|   6|  6.0|  7|     0|   0|    0|\n",
            "| 3546806| 8.5| 7.5|  7| 7.0|   6.5| 7.0|  7.5| 7.0|  7.0|7.0|     0|   0|    0|\n",
            "| 4045426| 8.5| 8.5|  6|   8|   7.5| 8.5|    9| 8.5|  7.5|8.5|     0|   1|    0|\n",
            "| 4536867|   8|   8|  9| 7.5|     9| 9.5|  9.5| 9.5|    9|9.5|     0|   1|    1|\n",
            "| 4650139| 8.5|   8|8.5|10.0|   9.5| 8.5|  8.5| 8.5|  8.5|9.0|     0|   0|    0|\n",
            "| 5665575| 5.5| 5.5|5.0|   6|   6.5|   6|  6.5| 6.5|    7|  8|     1|   1|    0|\n",
            "| 5763862|   7|   6|  8|   6|   7.5|   7|  6.5| 8.5|  7.5|8.5|     0|   0|    1|\n",
            "| 5890865| 7.5| 7.5|  5| 6.0|   3.5| 6.0|  7.0| 6.0|  6.0|6.5|     0|   0|    0|\n",
            "| 6024723| 7.5| 7.5|7.5|   8|   8.5| 7.5|    8|   8|    7|  8|     1|   1|    1|\n",
            "| 6136739| 8.5|   7|  7| 8.5|   5.0| 5.5|  8.5| 6.5|  7.5|8.0|     1|   0|    1|\n",
            "| 6762507|   8|   9|8.5| 9.5|   7.0| 8.0|  8.0| 8.5|  8.5|8.0|     1|   0|    0|\n",
            "| 7675525| 8.5| 7.5|  9|   8|   8.5| 8.5|    9| 9.5|    9|8.5|     0|   0|    1|\n",
            "| 7889895|   9| 7.5|  7| 8.5|   8.0| 9.0|  7.5| 9.5|  8.5|8.5|     0|   0|    0|\n",
            "| 8813147| 0.0|   4|2.5| 0.0|   0.0| 0.0|  4.5| 3.0|  0.0|0.0|     0|   0|    0|\n",
            "| 8926512|   9|   8|8.5| 8.0|   8.0| 8.0|  8.0| 8.0|  7.5|8.0|     0|   0|    0|\n",
            "| 9762853|   7|   7|  5| 6.5|     6|   6|  6.5| 6.5|  5.0|  6|     0|   1|    1|\n",
            "| 9915496| 6.5| 6.5|  5|   6|   6.5| 5.5|    8|   7|  5.0|  7|     1|   0|    0|\n",
            "|10007616|   8|   9|  8| 7.0|   7.0| 6.5|  7.5| 8.0|  8.0|6.0|     0|   0|    0|\n",
            "|10372040| 6.5|   6|4.5| 2.5|   4.5|   6|  6.5|   6|  6.0|5.0|     1|   1|    0|\n",
            "|10520631|   5| 7.5|4.5|   5|   4.5| 3.5|  4.5|   6|  4.5|6.5|     1|   1|    0|\n",
            "|11871294| 7.5|   8|7.5| 8.5|   7.5| 8.0|  8.0| 9.0|  5.5|8.0|     0|   0|    0|\n",
            "|11968298| 8.5| 8.5|7.5|   8|   8.5| 8.5|    7|   8|    8|7.5|     0|   1|    0|\n",
            "|12000507| 8.5| 7.5|7.5| 6.5|   6.5| 7.5|  7.0| 7.5|  7.5|8.0|     0|   0|    0|\n",
            "|12118103| 6.5|   6|6.5| 7.5|     8| 7.5|  8.5|   7|  8.5|  9|     1|   1|    0|\n",
            "|12201042| 7.5|   7|7.5| 7.5|     8|   8|    9|   9|  7.5|6.5|     0|   0|    1|\n",
            "|12419098|   7|   7|  5| 6.5|   5.5| 7.5|  7.5|   7|  6.5|7.5|     1|   0|    1|\n",
            "|12515604|   7|   7|  6| 5.5|   6.5|   5|    7|   6|    6|6.5|     1|   1|    1|\n",
            "|12540524| 6.5| 7.5|7.5|   7|     8| 7.5|  9.5|  10|  8.5|8.5|     1|   1|    0|\n",
            "|12967654| 7.5|   7|6.5|   8|   6.5| 7.5|  8.5| 8.5|    8|  7|     0|   1|    0|\n",
            "|13000115|   7| 5.5|6.5|   9|   5.5| 6.5|    8|   6|    6|7.5|     1|   0|    1|\n",
            "|13761301| 8.5| 8.5|7.5| 6.5|   7.0| 8.0|  7.0| 9.5|  9.0|8.5|     0|   0|    0|\n",
            "|13793340|   7| 7.5|  7| 7.5|     5|   5|  6.5| 6.5|  5.5|  7|     1|   0|    0|\n",
            "|14036996|   9|   8|  8|   8|   8.5| 8.5|  7.5| 8.5|  8.0|8.0|     0|   0|    0|\n",
            "|14495747|   7|   6|3.5|   5|   3.5| 3.5|    6|   7|  4.5|  5|     1|   1|    0|\n",
            "|14821641|   8|   7|  7| 2.0|   7.5|   7|    6| 7.5|    8|  8|     1|   1|    0|\n",
            "|15374073| 6.5|   6|6.5|   9|     8| 5.5|  6.5|   8|  7.5|  7|     1|   1|    0|\n",
            "|15401017| 8.5|   8|  6|   8|     8|   8|  7.5| 7.5|  8.5|7.5|     1|   1|    1|\n",
            "|15683015| 8.5| 7.5|  9| 7.5|   8.5|   8|    9| 9.5|    9|  9|     0|   0|    1|\n",
            "|15723495| 7.5|   8|7.5| 6.5|   7.5|   7|  8.5|   8|    7|  8|     1|   0|    1|\n",
            "|15878863| 7.5| 8.5|  7|   8|   8.5| 6.5|    8| 7.5|  7.5|7.5|     1|   0|    0|\n",
            "|15897575| 6.5| 6.5|  6| 8.0|   5.5|   5|    7|   7|    7|6.5|     1|   0|    1|\n",
            "|15989365|   7| 7.5|  5| 6.0|   7.0| 8.0|    7| 7.5|  7.0|5.5|     1|   0|    1|\n",
            "|16060788|   7| 6.5|  7|   7|   8.5|   8|  7.5| 6.5|  5.5|6.5|     1|   0|    1|\n",
            "|16622239| 7.5| 6.5|5.5| 9.0|   5.5| 7.5|  7.5| 7.5|  6.0|7.0|     0|   0|    0|\n",
            "|16923065| 8.5|   8|7.5| 8.5|     7|   7|    9| 7.5|  7.5|  8|     1|   0|    1|\n",
            "|17200932|   7| 7.5|  7| 7.5|     9| 8.5|  7.5|   8|  8.5|  9|     1|   1|    0|\n",
            "|17272564| 7.5| 9.5|7.5|   7|     8| 8.5|  9.5|   9|    9|7.5|     0|   1|    0|\n",
            "|17738653|   8|   8|  8|   8|   7.5|   8|    8|   8|    8|7.5|     1|   0|    1|\n",
            "|18088979| 7.5| 6.5|  6| 8.0|   6.5| 7.5|  7.0| 8.0|  6.5|7.0|     0|   0|    0|\n",
            "|18113261|   9| 8.5|6.5|  10|   8.0| 7.0|  6.5| 9.5|  7.0|7.5|     0|   0|    0|\n",
            "|18188612| 8.5| 8.5|7.5| 8.0|   6.5| 7.5|  7.5| 8.0|  7.5|9.0|     0|   0|    0|\n",
            "|18334780| 7.5|   8|5.5|   5|   5.5| 5.5|  6.5|   7|  7.5|  7|     1|   1|    1|\n",
            "|18434786|   7| 7.5|  6| 6.5|   8.5|   8|    9| 7.5|    8|  8|     1|   1|    0|\n",
            "|18787410| 6.5| 5.5|  7| 5.5|   4.5| 5.5|    7| 6.5|  6.0|6.0|     1|   0|    0|\n",
            "|19453491|   8| 7.5|  9|10.0|   9.5| 8.0|  8.0| 8.0|  7.5|7.5|     0|   0|    0|\n",
            "|19718802|   7|   6|  7| 8.5|   7.0| 5.5|  6.5| 7.0|  7.5|7.5|     0|   0|    0|\n",
            "|19898710|   8|   8|  7| 7.0|   7.0| 7.5|  7.5| 8.5|  7.5|7.0|     0|   0|    0|\n",
            "|20368742| 7.5| 7.5|  8| 9.5|   9.5|   9|  9.5| 9.5|  8.5|  7|     0|   1|    0|\n",
            "|21110338| 8.5| 6.5|6.5| 8.5|   5.5| 7.0|  7.5| 7.5|  7.0|7.0|     0|   0|    0|\n",
            "|21630437| 7.5| 8.5|  9| 8.5|  10.0| 8.5|  8.5| 8.5|  8.0|8.0|     0|   0|    0|\n",
            "|21665264|   8|   6|7.5| 7.5|   6.5| 8.5|    8| 7.5|    7|7.5|     1|   1|    0|\n",
            "|21721644| 7.5| 6.5|  8| 7.5|   7.5| 8.5|  8.5|   8|    8|  8|     1|   0|    1|\n",
            "|22278201| 6.5| 5.5|  5|   5|   1.5|   6|  5.5| 6.5|  5.5|  6|     1|   1|    0|\n",
            "|22321402| 6.5|   7|5.5| 6.5|     7|   7|  8.5| 7.5|    8|7.5|     1|   0|    1|\n",
            "|22432972|   9| 8.5|9.5|  10|   9.0| 9.5|  9.0| 8.5|  8.5|9.0|     0|   0|    0|\n",
            "|22695083|   5| 7.5|5.5|   6|     8| 6.5|  8.5| 6.5|    7|6.5|     1|   1|    1|\n",
            "|22941506| 7.5|   7|5.5| 8.5|   7.0| 7.5|  8.0| 7.0|  7.5|7.5|     0|   0|    0|\n",
            "|23183182|   9| 6.5|7.5| 7.5|     0|   8|  7.5| 5.5|  6.0|  9|     1|   0|    0|\n",
            "|23633400| 6.5|   7|  6|   6|   6.5|   6|    8|   6|  6.5|  6|     1|   1|    0|\n",
            "|23757354| 6.5|   6|5.5|   6|     5|   6|    9| 6.5|  7.5|6.5|     1|   0|    0|\n",
            "|24831481|   9|   8|  6| 7.5|   6.5| 7.5|  7.5| 8.0|  8.0|7.5|     0|   0|    0|\n",
            "|25577791| 6.5|   6|7.5| 7.5|     8|   7|  7.0|   8|  6.5|  8|     1|   1|    1|\n",
            "|25680604| 8.5|   8|  6| 7.5|     8| 8.5|    9| 8.5|    8|7.5|     0|   0|    1|\n",
            "|25761104| 8.5| 6.5|  7|   9|   8.0| 7.5|  7.5| 7.5|  7.0|7.0|     0|   0|    0|\n",
            "|26340235|   7| 7.5|6.5| 6.5|     6|   7|    8|   7|    5|7.5|     1|   1|    1|\n",
            "|26556653|   6|   8| 10| 8.5|   7.5|   9|    9| 8.5|    8|8.5|     0|   1|    0|\n",
            "|26921752| 7.5| 6.5|6.5|   9|   7.0| 7.0|  6.0| 7.0|  7.0|7.5|     0|   0|    0|\n",
            "|27023674| 7.5|   7|  6| 6.0|   6.5| 7.5|  8.5| 6.5|  8.5|  8|     1|   1|    0|\n",
            "|28406966|   9|   6|  5| 5.0|   4.0| 8.0|  7.0| 7.0|  6.5|7.5|     0|   0|    0|\n",
            "|28427247|   7| 6.5|6.5|   7|     6| 7.5|  8.5|   6|    7|  7|     1|   1|    1|\n",
            "|28790463|   8|   7|  5| 6.5|     7| 5.5|    8|   9|  5.5|7.5|     1|   1|    1|\n",
            "|28856843| 7.5| 5.5|5.5| 8.0|   0.0| 2.5|  5.0| 5.5|  7.0|6.0|     0|   0|    0|\n",
            "|28953978| 8.5| 7.5|  8| 8.5|   8.0| 8.0|  8.0| 7.5|  8.0|8.0|     0|   0|    0|\n",
            "|29110504| 7.5| 5.5|5.5|   7|     7| 5.5|  6.5|   8|    7|7.5|     1|   1|    1|\n",
            "|29500525|   8| 7.5|7.5|   9|   8.5| 8.5|  9.5| 8.5|    9|  9|     0|   0|    0|\n",
            "|29759993| 9.5| 8.5|8.5| 8.5|   8.5| 8.0|  7.0| 8.0|  8.5|8.5|     0|   0|    0|\n",
            "|29851291| 6.5| 7.5|6.5| 6.5|     8|   8|    9|   7|  8.5|  8|     1|   1|    0|\n",
            "|29987423| 7.5| 9.5|  8|   8|   8.5|   8|  8.5| 8.5|  7.5|7.5|     1|   1|    0|\n",
            "|30227536|   7|   7|4.5| 7.5|     7| 5.5|  7.5| 5.5|  7.5|  4|     0|   0|    0|\n",
            "|30245755| 7.5|   8|  7| 6.5|     7|   7|  8.5|   7|  7.5|6.5|     1|   1|    1|\n",
            "|30252433| 7.5|   7|  8|   6|     8|   7|    8| 6.5|  6.5|  7|     1|   1|    0|\n",
            "|30498131|   8| 7.5|6.5| 6.5|   5.5|   5|  6.5|   7|  7.5|  6|     1|   0|    1|\n",
            "|30633146|   9| 8.5|  9| 9.5|   6.5| 7.0|  8.0| 9.0|  8.5|9.5|     1|   0|    0|\n",
            "|31164911|   6|   7|5.5| 5.5|     6|   6|    7|   7|    6|  7|     1|   0|    1|\n",
            "|31231599| 6.5|   6|  6|   7|   6.5| 6.5|  7.5| 7.5|    7|7.5|     1|   1|    0|\n",
            "|31305086| 7.5|   8|7.5|   7|     7| 7.5|  8.5|   8|    8|7.5|     0|   1|    1|\n",
            "|31324740| 6.5| 6.5|5.5| 5.5|     6|   3|  6.5| 6.5|    5|  7|     1|   1|    0|\n",
            "|31356670| 8.5|   8|7.5| 7.5|   8.5|   8|  7.5| 9.5|  8.5|  8|     0|   1|    0|\n",
            "|31557376| 9.5| 6.5|8.5| 9.5|   8.5| 8.5|  8.0| 8.0|  8.0|9.0|     0|   0|    0|\n",
            "|31838373|   9|   8|8.5| 6.5|   6.5| 8.0|  8.5| 9.0|  7.5|8.0|     0|   0|    0|\n",
            "|31933277| 9.5| 5.5|6.5|   8|   6.0| 7.0|  6.5| 6.5|  7.0|7.5|     0|   0|    0|\n",
            "|32292195|   8|   8|  8| 7.5|   8.0| 8.5|  8.0| 8.0|  7.0|9.0|     0|   0|    0|\n",
            "|32698623|   8|   7|7.5| 7.5|     8|   7|  8.5|   6|  7.5|  9|     1|   0|    0|\n",
            "|32774418|   5|   7|  6|   6|     8|   5|    8|   7|  6.5|7.5|     1|   1|    1|\n",
            "|33352887|   8| 6.5|4.5| 1.5|   5.5| 6.5|  7.0| 6.0|  6.5|6.5|     0|   0|    0|\n",
            "|33526074| 7.5| 6.5|  8|   5|     8|   7|  5.5|   8|  6.5|7.5|     1|   0|    1|\n",
            "|33647424|   7| 6.5|  6|   6|     7| 6.5|  7.5| 7.5|    7|7.5|     1|   0|    1|\n",
            "|33809225| 8.5|   6|  6| 8.0|   5.0| 7.0|  7.0| 4.5|  5.5|5.5|     0|   0|    0|\n",
            "|33926743|   8|   6|  6|   8|   4.5| 6.5|  8.0| 8.0|  7.5|9.0|     0|   0|    0|\n",
            "|34090239|   7| 4.5|5.0|   5|     5| 6.5|  7.5| 5.5|  5.0|  7|     0|   0|    0|\n",
            "|34222318| 8.5| 8.5|7.5| 9.5|  10.0| 8.5|  8.0| 8.0|  7.0|7.0|     0|   0|    0|\n",
            "|34826077| 7.5| 5.5|  6| 5.5|   2.0| 6.5|  6.0| 6.5|  7.0|6.5|     0|   0|    0|\n",
            "|35534748|   8| 7.5|5.5|   9|   7.5|   7|  7.5| 7.5|  9.5|8.5|     1|   1|    1|\n",
            "|35573553|   7|   9|  5| 6.5|     5| 6.5|  6.5| 5.5|    7|  7|     1|   1|    0|\n",
            "|35795985| 7.5|   9|6.5| 6.5|   9.5|   8|    9|   9|  9.5|  8|     0|   0|    0|\n",
            "|36039886| 7.5|   7|  7| 6.5|   7.5| 7.5|  8.5|   8|    9|8.5|     1|   0|    0|\n",
            "|36094662|   8| 7.5|  7|   8|     8| 8.5|  9.5|   8|  8.5|8.5|     1|   1|    0|\n",
            "|36232484| 7.5| 8.5|  8| 6.5|     7| 8.5|    9| 8.5|  8.5|  8|     0|   0|    0|\n",
            "|36428051| 8.5| 6.5|  5| 2.0|   3.5| 0.0|  5.0| 6.0|  2.0|1.5|     0|   0|    0|\n",
            "|36886675|   7| 6.5|7.5| 7.5|   5.5|   7|  7.5| 6.5|    5|7.5|     1|   1|    1|\n",
            "|36920603|   9| 7.5|8.5| 8.0|   8.5| 9.0|  8.5| 9.0|  7.5|8.0|     0|   0|    0|\n",
            "|37278813|   7| 7.5|  7|   6|     9|   8|  8.5| 7.5|  9.5|8.5|     1|   1|    1|\n",
            "|37557479| 7.5| 7.5|  8|   8|   6.5| 8.0|  8.5| 8.5|  7.0|8.0|     0|   0|    0|\n",
            "|37734481|   7| 6.5|6.5| 5.5|   6.5| 7.5|  8.5|   7|  6.5|6.5|     1|   1|    0|\n",
            "|39052159| 8.5|   8|  8| 9.0|   8.5| 8.5|  8.0| 8.5|  8.5|8.0|     0|   0|    0|\n",
            "|39329920| 7.5|   8|  6| 6.5|     9| 7.5|  8.5| 8.5|  7.5|8.5|     1|   0|    1|\n",
            "|39509723|   6| 7.5|  5|   6|     6|   5|    8| 6.5|    7|6.5|     1|   1|    0|\n",
            "|39798894|   9| 5.5|5.5|   7|   7.5| 7.0|  7.5| 7.0|  7.0|8.0|     0|   0|    0|\n",
            "|39903076| 7.5|   8|7.5| 8.5|   9.5| 8.5|  9.5| 9.5|  8.5|  7|     0|   1|    0|\n",
            "|39972486| 7.5| 6.5|  5| 8.0|     5|   6|  5.5| 5.5|    5|  8|     1|   0|    0|\n",
            "|40457740|   9| 7.5|6.5|   9|   7.5| 8.5|  8.0| 8.5|  8.0|8.0|     0|   0|    0|\n",
            "|40793691|   7| 6.5|6.5| 8.5|     6|   7|    6| 7.5|    6|7.5|     1|   0|    1|\n",
            "|41047032| 7.5|   7|  6|   5|   6.5|   6|    8| 7.5|  7.5|  7|     1|   1|    1|\n",
            "|41278711|   8|   8|7.5|   7|     9| 8.5|    9| 8.5|  8.5|7.5|     0|   1|    0|\n",
            "|41588425| 8.5|   7|7.5| 9.5|   8.0| 8.5|  8.0| 8.0|  8.0|8.5|     0|   0|    0|\n",
            "|41646684| 7.5|   6|5.5|   7|   4.0| 7.0|  5.5| 5.5|  7.5|5.0|     0|   0|    0|\n",
            "|41789860|   8| 8.5|5.5| 9.5|   6.5| 8.0|  7.5| 8.5|  7.5|7.5|     0|   0|    0|\n",
            "|41971887|   8| 6.5|  5| 8.0|   6.5| 8.0|  7.5| 6.0|  0.0|5.5|     0|   0|    0|\n",
            "|42048099|   6|   6|5.5|   6|     3| 5.5|  6.5|   6|    6|6.5|     0|   0|    0|\n",
            "|42174647|   6| 7.5|6.5|   9|     7| 7.5|  7.5|   8|  6.5|7.5|     1|   1|    0|\n",
            "|42272627|   8| 5.5|6.5|   8|   6.0| 7.0|  7.5| 8.0|  8.5|8.0|     0|   0|    0|\n",
            "|42332611| 8.5|   7|6.5| 7.5|   7.0| 7.0|  7.5| 7.5|  6.5|8.0|     0|   0|    0|\n",
            "|43094634| 6.5| 6.5|  5|   6|   5.5| 5.5|  7.5| 6.5|  6.5|5.5|     1|   1|    0|\n",
            "|43156382|   7| 7.5|  7|   6|   6.5| 6.5|    8|   8|  7.5|  7|     1|   1|    0|\n",
            "|43839500|   8| 7.5|  8| 7.5|   6.5| 9.0|  7.0| 8.0|  8.0|8.0|     1|   0|    0|\n",
            "|44031234| 5.5| 5.5|  0|   4|   0.5| 5.5|  4.5|   4|    2|  5|     0|   0|    0|\n",
            "|44827787| 8.5| 9.5|  9| 9.5|    10|   9|  9.5| 9.5|    9|8.5|     0|   1|    0|\n",
            "|45704497| 8.5| 6.5|  7|   7|   6.0| 7.5|  7.0| 8.5|  7.5|8.0|     0|   0|    0|\n",
            "|45911967| 5.5| 6.5|  1|   2|   0.5|   2|  6.5| 3.5|    5|  3|     0|   0|    0|\n",
            "|46086816| 8.5|   8|9.5| 9.0|   9.5| 9.5|  7.5| 9.5|  8.0|8.5|     0|   0|    0|\n",
            "|46293905| 6.5| 6.5|  7| 5.5|     7|   7|  7.5|   7|  7.5|  7|     1|   0|    1|\n",
            "|46423293|   8|   7|  6|   7|   6.5|   7|  7.5|   9|    8|7.5|     0|   0|    1|\n",
            "|46514744| 7.5| 8.5|  7|   7|     6|   6|  7.5|   9|    8|7.5|     0|   0|    0|\n",
            "|46604658|   6|   5|  5| 4.5|   6.0| 8.0|  7.5| 7.0|  7.0|6.5|     1|   0|    0|\n",
            "|47040071| 8.5| 7.5|  5|   8|   6.5| 8.0|  7.0| 7.0|  7.0|7.0|     0|   0|    0|\n",
            "|47067224|   8| 8.5|9.5|   9|     9|   9|    9| 9.5|  8.5|9.5|     1|   1|    0|\n",
            "|47149037| 8.5| 6.5|  6| 7.0|   5.5| 7.0|  7.5| 7.0|  7.0|6.5|     0|   0|    0|\n",
            "|47355539| 6.5| 4.5|5.5| 4.5|     1| 7.0|  5.0| 6.5|  5.5|6.0|     1|   0|    0|\n",
            "|47371888|   8|   6|  5| 8.0|   2.0| 7.0|  5.5| 7.5|  0.0|5.5|     0|   0|    0|\n",
            "|47792386| 8.5|   7|  7| 5.0|   6.0| 7.0|  7.5| 7.5|  6.5|7.5|     1|   0|    0|\n",
            "|48112741|   8|   9| 10| 8.5|     9|   9|    9| 8.5|  7.5|  8|     0|   0|    1|\n",
            "|48182876|   8|   7|  6| 6.0|   5.0| 6.5|  7.0| 7.0|  5.5|6.5|     0|   0|    0|\n",
            "|48465899| 7.5| 6.5|  8| 7.5|   6.5|   7|    9| 6.5|  7.0|5.5|     1|   1|    1|\n",
            "|48673746| 5.5|   6|  7|   7|   7.5|   7|    8|   8|  7.5|  7|     1|   1|    0|\n",
            "|48732179|   7| 7.5|5.0| 7.5|   7.5| 6.5|  6.5|   7|  6.5|  7|     1|   0|    0|\n",
            "|49224850|   6| 7.5|  8|   6|   7.5| 6.5|  7.5| 6.5|  7.0|  7|     1|   1|    0|\n",
            "|49313063| 8.5|   7|  5| 7.0|   5.5| 8.0|  7.5| 7.5|  7.5|7.0|     0|   0|    0|\n",
            "|49322861| 7.5| 7.5|  7|   8|   8.5|   8|  9.5| 8.5|    9|  8|     0|   1|    0|\n",
            "|49455568|   8| 6.5|  6| 7.5|   8.5| 6.5|    7|   7|  7.5|  8|     1|   1|    0|\n",
            "|49483298| 8.5| 7.5|  8| 8.5|   7.0| 8.5|  7.5| 8.5|  8.0|9.0|     0|   0|    0|\n",
            "|49538429| 7.5| 7.5|6.5|   8|   8.5|   8|    7|   8|  8.5|  8|     1|   1|    0|\n",
            "|49569301| 7.5| 8.5|4.5| 6.5|   5.5| 5.5|  5.5|   6|  7.5|  5|     1|   0|    0|\n",
            "|49851016|   8|   6|  7| 8.5|   5.0| 7.0|  7.0| 6.5|  8.5|8.0|     0|   0|    0|\n",
            "|50550377|   6|   6|7.5| 6.5|   8.5|   8|    8|   6|  6.5|8.5|     1|   1|    0|\n",
            "|50624608| 6.5|   6|  5| 3.0|   2.5|   4|    5| 6.5|  4.5|  5|     1|   0|    1|\n",
            "|50705977|   8| 7.5|  5| 6.5|   5.0| 7.5|  7.0| 7.0|  7.5|5.0|     0|   0|    0|\n",
            "|51160177| 7.5|   8|7.5| 6.5|   5.5| 7.5|  7.5| 8.5|  6.5|8.0|     0|   0|    0|\n",
            "|51735114|   8|   7|  8|   8|   7.0| 7.5|  8.0| 6.5|  8.0|8.5|     0|   0|    0|\n",
            "|51980661|   6| 6.5|  6| 7.5|     6| 6.5|  6.5|   7|    6|  7|     1|   1|    0|\n",
            "|52564260| 7.5|   6|5.5| 9.5|   0.0| 8.5|  4.5| 6.5|    5|  8|     0|   1|    0|\n",
            "|52854850|   9| 6.0|5.5| 5.5|   5.0| 6.5|  7.0| 6.5|  6.0|7.5|     0|   0|    0|\n",
            "|53656806| 8.5| 6.5|6.5|   9|   6.5| 9.0|  7.5| 9.0|  9.5|8.5|     0|   0|    0|\n",
            "|54065327| 7.5|   8|  8|   7|     6| 6.5|  7.5| 8.5|  6.5|  8|     1|   0|    0|\n",
            "|54363773| 6.5| 6.5|  1| 5.5|   3.5|   5|  5.5|   5|  5.5|5.5|     1|   0|    1|\n",
            "|54422973| 7.5|   7|  8| 8.5|     8|   8|  9.5|   9|    9|  8|     0|   1|    0|\n",
            "|54460013| 8.5| 7.5|  9| 8.5|   7.5| 9.5|  8.0| 9.5|  9.0|9.0|     0|   0|    0|\n",
            "|54483983|   7|   7|7.5|   8|     7| 5.5|    8| 6.5|    6|7.5|     1|   0|    1|\n",
            "|54649484| 7.5| 5.5|  6| 8.0|     5| 6.5|  7.5| 5.5|    7|6.5|     0|   0|    1|\n",
            "|54840197| 6.5|   6|5.5| 6.5|   7.5|   5|    7|   7|  6.5|  7|     1|   1|    1|\n",
            "|54907961|   8|   6|7.5|   8|   5.0| 6.5|  6.5| 8.0|  7.0|7.0|     0|   0|    0|\n",
            "|55044851| 8.5|   9|8.5| 6.5|   9.5|   8|    9| 8.5|  8.5|  8|     0|   0|    1|\n",
            "|55162275|   9| 7.5|7.5| 8.5|   6.0| 7.5|  6.0| 6.5|  6.0|8.5|     0|   0|    0|\n",
            "|55317853|   7| 7.5|  7| 7.5|     7|   7|  7.5| 7.5|    8|  8|     1|   1|    1|\n",
            "|55463125|   7| 6.5|  6| 7.5|     9|   8|    9|   7|    8|  8|     1|   1|    0|\n",
            "|55471389|   8|   7|  8| 9.5|   7.5| 8.5|  7.5| 9.0|  8.5|8.5|     0|   0|    0|\n",
            "|55501956|   6|   6|5.5|   8|     7|   8|  7.5|   7|  6.5|  7|     1|   1|    0|\n",
            "|55731292| 7.5| 7.5|  7|  10|   7.0| 8.5|  8.5| 9.0|  8.0|7.5|     0|   0|    0|\n",
            "|56338946| 7.5| 7.5|7.5| 7.5|   6.5| 7.5|  7.5| 7.5|  7.5|6.5|     0|   0|    0|\n",
            "|56469986| 7.5|   8|  8| 5.5|     6|   5|  7.5|   8|  6.5|7.5|     1|   1|    0|\n",
            "|56513269|   8| 7.5|8.5| 9.5|   9.5| 9.0|  9.0| 8.5|  8.0|8.0|     0|   0|    0|\n",
            "|56693326| 7.5|   8|8.5|   8|     9| 8.5|  9.5| 9.5|  8.5|  8|     0|   0|    0|\n",
            "|57475071| 8.5| 6.5|  6| 6.5|   7.5| 9.0|  7.0| 8.0|  8.5|8.5|     0|   0|    0|\n",
            "|57621666| 7.5|   7|  6| 6.5|   6.0| 6.5|  7.5| 6.5|  6.5|6.5|     1|   0|    0|\n",
            "|57868445|   8|   7|5.5| 9.5|     5|   6|  7.5|   7|  6.5|  7|     1|   1|    1|\n",
            "|57988181|   8|   7|  7|   9|   8.5|   7|  6.5| 7.5|    7|7.5|     1|   0|    1|\n",
            "|58186487| 7.5| 7.5|  8| 7.5|   8.5| 8.5|    9| 7.5|    9|8.5|     1|   1|    0|\n",
            "|58321750|   9|   9|  9|10.0|  10.0| 8.5|  8.5| 9.5|  8.5|8.5|     0|   0|    0|\n",
            "|58859505|   8| 5.5|5.5| 8.5|   5.0| 6.0|  6.5| 7.5|  5.5|6.0|     0|   0|    0|\n",
            "|59140641|   9| 7.5|9.5|   8|   9.5| 9.5|  9.5|  10|  8.5|8.5|     0|   1|    0|\n",
            "|59224426|   8|   8|9.5| 9.0|  10.0| 9.5|  8.5| 9.5|  9.0|9.0|     0|   0|    0|\n",
            "|59431945|   7| 6.5|2.5| 8.0|   5.0| 7.0|  6.0| 6.5|  2.5|7.0|     0|   0|    0|\n",
            "|59664746|   9|   8|9.5| 8.5|   8.0| 9.0|  8.5| 8.5|  8.5|8.5|     0|   0|    0|\n",
            "|59732698|   7| 6.5|6.5| 7.5|   7.5| 6.5|  7.5|   8|  5.5|7.5|     1|   1|    1|\n",
            "|59892447| 7.5| 6.5|  5| 5.5|   6.5|   6|  7.5| 5.5|  5.5|5.5|     0|   0|    0|\n",
            "|60068247| 8.5| 9.5|5.5| 7.5|   6.0| 8.0|  7.0| 8.5|  7.5|7.5|     0|   1|    0|\n",
            "|60202738| 7.5| 5.5|  6|   7|   7.5| 6.5|  6.5|   6|  7.5|  8|     0|   0|    0|\n",
            "|60249271|   9|   8|8.5| 9.5|   9.0| 9.0|  8.0| 9.0|  8.5|9.0|     0|   0|    0|\n",
            "|60468648| 8.5|   7|  6|   5|     6| 5.5|  7.5|   7|  7.5|  8|     1|   0|    1|\n",
            "|61026168|   9| 8.5|8.5| 9.0|   7.5| 8.5|  8.0| 9.5|  9.0|8.5|     0|   0|    0|\n",
            "|61663799|   6| 6.5|  4|   6|   0.0| 7.5|  6.5|   0|  2.5|  0|     0|   0|    0|\n",
            "|61850859| 9.5| 8.5|8.5| 9.0|   9.0| 8.0|  8.0| 9.0|  8.0|8.0|     0|   0|    0|\n",
            "|61937879| 8.5|   8|7.5|   8|     9|   8|  9.5|   8|  8.5|  9|     0|   1|    0|\n",
            "|62320914| 7.5|   8|8.5| 8.5|   9.5| 8.5|  8.0| 8.5|  8.0|8.5|     0|   0|    0|\n",
            "|62744333| 8.5| 6.5|  7|   9|   7.0| 8.0|  7.5| 8.0|  7.0|7.5|     0|   0|    0|\n",
            "|63015386|   8|   7|  9| 8.5|   8.5| 8.5|  8.0| 8.0|  7.5|8.5|     0|   0|    0|\n",
            "|63104847|   8| 6.5|7.5|   7|   6.5| 7.5|  8.0| 7.5|  7.0|8.5|     0|   0|    0|\n",
            "|63181159| 6.5|   6|5.5|   8|   4.0| 5.5|    0| 7.5|  5.0|6.5|     1|   1|    0|\n",
            "|63589454| 7.5| 5.5|  6| 7.5|   6.0| 8.0|  6.5| 6.5|  6.5|6.5|     0|   0|    0|\n",
            "|64011256| 5.5|   7|  6| 9.5|     3| 5.5|  7.5| 7.5|    6|8.5|     1|   0|    0|\n",
            "|64113916| 8.5|   8|7.5| 8.5|   8.5| 8.5|  9.5|   9|  8.5|7.5|     0|   1|    1|\n",
            "|64606130|   8|   9|5.5|   7|   4.5| 7.0|    8|   7|  6.0|  8|     1|   0|    0|\n",
            "|64818465| 7.5| 5.5|  1|   6|   0.5|   4|  7.5|   5|  0.0|  6|     0|   0|    0|\n",
            "|65934136| 7.5|   7|6.5| 7.5|   8.5| 6.5|    8| 9.5|  7.5|7.5|     1|   1|    1|\n",
            "|65968968| 7.5| 7.5|7.5| 8.5|   7.5| 9.5|  8.0| 8.5|  8.5|  8|     1|   0|    0|\n",
            "|66127204|   8| 7.5|  5| 6.5|   6.5| 8.0|  7.5| 6.0|  7.5|7.0|     0|   0|    0|\n",
            "|66284919|   7|   8|8.5| 6.5|   8.5|   8|    9| 8.5|    8|  9|     0|   1|    0|\n",
            "|66313118|   8| 7.5|  7| 8.5|   5.5| 7.0|  8.0| 7.5|  6.5|7.5|     0|   0|    0|\n",
            "|66433788|   9|   6|6.5|   6|   6.0| 8.0|  7.5| 8.5|  7.0|7.5|     0|   0|    0|\n",
            "|66667665| 6.5|   7|7.5|   6|     8| 7.5|    8| 7.5|  6.5|7.5|     1|   1|    0|\n",
            "|66721895| 6.5|   5|  5| 2.5|     0| 7.0|  7.5|   6|    5|7.5|     1|   0|    0|\n",
            "|66742358|   7|   7|  5| 6.5|   7.5| 6.5|  6.5| 5.5|    7|6.5|     1|   0|    0|\n",
            "|67140388|   9| 7.5|7.5| 9.5|   8.5| 7.5|  8.0| 7.0|  7.5|8.0|     0|   0|    0|\n",
            "|67208785|   7| 7.5|  7| 8.5|     8|   8|    8|   7|  8.5|  8|     1|   1|    1|\n",
            "|67948494| 7.5|   6|  7| 8.5|   7.5| 5.0|  7.0| 8.0|  6.5|9.0|     0|   0|    0|\n",
            "|68243419|   5|   6|  1|   1|   0.5|   3|    5| 3.5|  2.5|1.5|     0|   0|    0|\n",
            "|68390630|   6|   5|5.5| 6.5|   5.5| 6.5|  7.5|   7|  7.5|  7|     1|   1|    0|\n",
            "|68768498|   8| 8.5|7.5|   8|   8.5| 8.5|    8| 8.5|    8|  8|     0|   1|    1|\n",
            "|69542940|   7|   6|  5|   6|     7|   7|    9|   7|    7|  8|     0|   0|    0|\n",
            "|70244702| 7.5|   7|  6| 6.5|     7| 6.5|    8|   9|    7|  8|     1|   1|    0|\n",
            "|71126669| 8.5| 6.5|7.5| 6.5|   6.5| 8.0|  7.5| 8.0|  7.5|8.5|     0|   0|    0|\n",
            "|71658984|   8| 7.5|  8|   8|     9|   7|    8|   8|    8|8.5|     1|   1|    0|\n",
            "|72009848|   9|   7|6.5| 7.0|   4.5| 6.5|  5.5| 8.0|  6.0|5.0|     0|   0|    0|\n",
            "|72079122| 8.5| 8.5|8.5| 9.5|  10.0| 8.0|  8.0| 9.5|  8.5|8.5|     0|   0|    0|\n",
            "|72911655|   7|   6|  2| 2.0|   3.5| 6.5|  7.0| 6.5|  6.5|2.0|     0|   0|    0|\n",
            "|73252363|   9|   8|  6| 7.5|   6.5| 7.0|  8.0| 9.0|  8.0|8.5|     1|   0|    0|\n",
            "|73476291| 9.5| 7.5|  9| 8.0|   7.5|10.0|  8.5| 8.0|  8.5|8.5|     0|   0|    0|\n",
            "|74234424|   7|   7|  6|   6|     7|   6|    8|   7|  7.5|7.5|     1|   1|    0|\n",
            "|74262615| 7.5|   6|  5| 8.5|   6.0| 7.5|  7.0| 7.0|  6.5|7.0|     0|   0|    0|\n",
            "|74450100|   8| 6.5|7.5| 7.5|   8.5|   9|  8.5|   8|    8|  7|     0|   1|    1|\n",
            "|74557733| 8.5|   7|  8|   7|   6.0| 8.5|  8.0| 9.0|  7.0|7.5|     0|   0|    0|\n",
            "|74657859|   8| 7.5|  7|   8|   7.5| 8.0|  7.5| 8.0|  7.5|8.5|     0|   0|    0|\n",
            "|75128164| 7.5| 7.5|6.5|   7|   8.5| 8.5|  8.5|   8|  8.5|9.5|     1|   0|    0|\n",
            "|75481692|   7| 5.5|6.5| 9.0|   6.5| 7.5|  7.5| 7.0|  7.5|7.5|     0|   0|    0|\n",
            "|75524015|   8|   8|  7|   9|   9.5| 7.5|  7.5| 8.0|  6.5|8.0|     0|   0|    0|\n",
            "|75925432|   8| 8.5|  9|   8|     6| 8.5|    8| 8.5|  8.5|  8|     1|   0|    1|\n",
            "|76146928|   8| 7.5|  7|   7|   8.0| 9.0|  8.5| 7.5|  7.0|8.5|     0|   0|    0|\n",
            "|76462579| 6.5|   9|  6| 5.5|     8| 6.5|  8.5|   8|  5.5|8.5|     1|   0|    0|\n",
            "|76861612| 7.5|   8|  8|   8|   8.5| 8.5|    9| 9.5|    8|8.5|     0|   1|    1|\n",
            "|77478107|   9| 9.5|  9|  10|   9.5| 9.0|  8.5| 8.0|  9.0|8.5|     0|   0|    0|\n",
            "|77500549|   9|   7|  9| 9.5|   9.5| 9.0|  8.5| 9.0|  9.0|9.0|     0|   0|    0|\n",
            "|79090637|   7| 5.5|5.0| 7.5|     7| 0.0|    6|   6|    6|  6|     1|   0|    0|\n",
            "|79614707| 8.5| 7.5|  7|   8|   8.5| 9.5|  8.0| 8.0|  8.0|9.0|     0|   0|    0|\n",
            "|79865927| 7.5| 7.5|7.5|   8|   8.5|   8|    8| 7.5|    7|  8|     1|   1|    0|\n",
            "|80689906| 8.5|   7|  9| 8.5|   7.0| 8.5|  7.5| 8.5|  8.0|8.5|     0|   0|    0|\n",
            "|80711285| 6.5|   8|  6| 7.5|     8|   8|    9|   8|    8|  8|     1|   1|    0|\n",
            "|80820783| 8.5| 6.5|6.5| 6.5|   6.0| 7.5|  7.5| 6.5|  6.0|6.5|     0|   0|    0|\n",
            "|81331655| 7.5|   7|  8|   7|   9.5| 7.5|  8.5| 8.5|  8.5|  8|     1|   0|    0|\n",
            "|81575184| 7.5| 5.5|5.5|   7|   3.0| 3.5|  5.5| 6.5|  5.0|0.5|     0|   0|    0|\n",
            "|81617856|   9|   7|5.5| 7.5|   5.5| 8.0|  6.5| 6.5|  6.5|7.0|     0|   0|    0|\n",
            "|81886938|   8| 6.5|  0| 6.0|   4.0| 7.5|  5.5| 5.0|  0.0|5.0|     0|   0|    0|\n",
            "|82335572| 7.5| 7.5|  5| 6.5|     5|   6|  7.0| 6.5|  6.5|6.5|     1|   0|    1|\n",
            "|82629047|   9| 6.5|4.5|   7|   2.5| 6.5|  7.5| 6.5|  7.5|7.5|     1|   1|    1|\n",
            "|82740655| 7.5| 7.5|7.5|   7|   6.5|   6|  7.5| 7.5|    8|  8|     1|   0|    1|\n",
            "|83034944|   6| 6.5|  1| 5.5|     4|   4|    5|   5|  5.5|  5|     0|   0|    0|\n",
            "|83288626|   7| 6.5|  5|   5|   5.5|   5|    7| 5.5|  6.5|  7|     1|   1|    0|\n",
            "|84224967|   7| 7.5|  8|   8|     8| 7.5|    8| 8.5|    8|6.5|     0|   1|    1|\n",
            "|84252601| 8.5| 4.5|  5| 6.5|   5.5| 7.0|  6.5| 7.0|  6.5|7.5|     0|   0|    0|\n",
            "|84376085| 6.5|   7|  6| 7.5|     7|   5|    7|   5|    5|5.5|     1|   0|    0|\n",
            "|84589986|   9| 7.5|  9| 8.5|   8.5|   9|  9.5|   9|  8.5|  9|     0|   0|    1|\n",
            "|84663152| 8.5|   7|8.5|   8|   6.0| 8.5|  7.5| 8.0|  6.0|8.0|     0|   0|    0|\n",
            "|85594477|   8| 7.5|6.5|   8|   7.5| 7.5|  7.5|   9|  7.5|  9|     1|   1|    1|\n",
            "|86141195| 7.5|   6|2.5| 2.5|   4.5| 6.0|  6.5| 6.0|  7.0|7.5|     0|   0|    0|\n",
            "|86518289| 7.5|   7|  6| 7.5|     8|   7|  7.5| 8.5|    9|  8|     1|   0|    0|\n",
            "|87999092|   6| 6.5|2.5| 1.5|     5|   5|    5| 7.5|    7|6.5|     0|   0|    0|\n",
            "|88577131|   9| 9.5|  9| 9.0|  10.0| 9.0|  8.0|10.0|  8.0|9.0|     0|   0|    0|\n",
            "|88961649| 6.5|   6|6.5| 5.5|   6.5| 7.5|  7.5|   7|  6.5|  8|     1|   0|    0|\n",
            "|89248577|   8| 7.5|  6| 8.5|   9.5|   9|  9.5| 9.5|  8.5|7.5|     0|   1|    0|\n",
            "|89519795|   7|   5|  7| 7.5|   8.0| 9.5|  8.0| 8.5|  6.5|7.5|     0|   0|    0|\n",
            "|89551317|   9|   7|  8| 8.5|   7.0| 7.5|  7.5| 8.0|  6.0|8.0|     1|   0|    0|\n",
            "|90079691| 7.5|   5|  1| 1.5|     0|   3|    6|   0|    3|  2|     0|   0|    0|\n",
            "|90123919|   7|   7|5.5| 6.5|   6.5|   5|  7.5|   7|  6.5|6.5|     0|   1|    1|\n",
            "|90155672| 6.5| 7.5|6.5| 6.5|     8| 7.5|  7.5|   7|    8|8.5|     1|   1|    0|\n",
            "|90344582| 6.5| 6.5|5.5|   8|     7|   5|  6.5|   7|  6.5|7.5|     1|   0|    1|\n",
            "|90670824|   7| 7.5|  8| 7.5|   8.5|   9|    8| 8.5|    8|  9|     1|   0|    0|\n",
            "|90957884| 7.5|   8|8.5| 6.5|     7|   8|    9| 8.5|    7|6.5|     0|   1|    1|\n",
            "|90965511|   8| 7.5|  8| 8.5|   9.0| 8.0|  8.0| 9.0|  8.0|8.0|     0|   0|    0|\n",
            "|91325501| 8.5|   7|  6|   8|   6.0| 8.0|  8.5| 6.0|  7.5|6.0|     0|   0|    0|\n",
            "|91734378|   7|   6|6.5| 7.5|     7|   7|    8|   7|    6|  7|     0|   0|    0|\n",
            "|91748147|   9|   6|5.5| 6.0|   5.5| 6.5|  7.0| 6.5|  6.5|6.5|     0|   0|    0|\n",
            "|91904699|   7|   6|6.5|   6|   6.5|   5|  7.5| 5.5|  7.0|  5|     0|   1|    0|\n",
            "|92050907|   7| 6.5|5.5| 8.0|   1.5| 5.5|  6.5| 7.5|    6|  6|     0|   1|    1|\n",
            "|92215722| 8.5|   9|  9| 8.5|     9| 8.5|    9| 9.5|    8|8.5|     0|   0|    0|\n",
            "|92444046|   6| 6.5|3.5| 6.0|   5.0|   5|    7| 6.0|  5.5|6.5|     0|   0|    0|\n",
            "|92475692| 6.5|   6|5.5| 6.5|   2.0|   5|  5.5|   6|    6|  5|     1|   0|    1|\n",
            "|92531994| 8.5| 7.5|  6|   8|   7.5| 7.5|    8|   6|  7.5|8.5|     0|   0|    1|\n",
            "|92842363|   7|   7|  7| 7.5|   5.5|   5|    7| 7.5|    7|7.0|     0|   0|    0|\n",
            "|93084468|   8|   8|  9| 8.5|   8.0| 8.5|  8.5| 9.0|  7.5|8.0|     0|   0|    0|\n",
            "|93176656|   9| 7.5|6.5|   8|   7.5| 8.5|  8.5| 8.5|    8|8.5|     1|   0|    1|\n",
            "|93221016| 7.5| 6.5|  6| 5.5|   6.5| 5.5|  7.5| 5.5|    5|  6|     1|   1|    0|\n",
            "|93288632| 6.5|   6|  5| 6.5|   6.5| 5.5|  7.5| 6.5|    6|6.5|     1|   1|    0|\n",
            "|93339035| 6.5|   6|5.5|   8|     6|   5|  7.5|   7|    6|  8|     1|   0|    1|\n",
            "|93660722| 7.5|   7|5.5|   6|     8|   7|  8.5| 8.5|  7.5|  9|     1|   1|    0|\n",
            "|93839806|   8| 8.5|  6| 8.5|   7.5| 0.0|  6.5| 9.0|  7.5|9.0|     1|   0|    0|\n",
            "|93871772| 7.5|   7|  6| 7.0|     5|   6|    7| 6.5|  7.5|  7|     1|   0|    0|\n",
            "|93972687|   9| 7.5|7.5| 7.5|   5.5| 8.0|  8.0| 8.0|  7.0|7.0|     0|   0|    0|\n",
            "|94305108|   7| 7.5|7.5| 5.5|   7.5| 7.5|    8|   8|  8.5|8.5|     1|   1|    1|\n",
            "|94308681|   7| 6.5|  6|   6|   8.5|   7|  8.5| 7.5|    7|  8|     1|   0|    1|\n",
            "|94677835| 6.5| 8.5|7.5|   7|   8.5| 8.5|  9.5|   8|    9|  8|     1|   1|    1|\n",
            "|94886402|   7| 6.5|5.5| 7.5|     7| 5.5|    8|   7|    6|5.5|     0|   1|    1|\n",
            "|95191519|   8|   8|  7| 7.5|   7.5| 6.5|    8|   8|    7|  7|     1|   1|    1|\n",
            "|95501897|   9|   7|  8|   8|     7| 6.5|  7.5|   6|  7.5|  7|     0|   1|    1|\n",
            "|95672453| 8.5| 6.5|  8| 6.5|   8.0| 8.5|  8.0| 8.5|  7.5|9.0|     0|   0|    0|\n",
            "|95836492| 8.5|   8|  7|   8|   8.5|   8|    9| 8.5|    8|  8|     0|   0|    1|\n",
            "|95840546| 6.5|   6|  7| 6.5|   7.5| 6.5|  8.5| 7.5|  7.5|  7|     1|   0|    1|\n",
            "|96002915| 8.5| 8.5|  9|  10|  10.0| 9.0|  9.0| 9.5|  8.5|8.5|     0|   0|    0|\n",
            "|96132330|   6| 6.5|  6| 6.5|   6.5| 5.5|    7| 8.5|  5.5|7.5|     0|   1|    0|\n",
            "|96432272|   6|   7|  6| 6.5|   1.5| 8.0|  7.0| 7.0|  6.5|8.0|     0|   0|    0|\n",
            "|97017017|   9| 6.5|6.5| 6.5|   7.5| 8.5|  7.5| 7.5|  7.5|7.5|     0|   0|    0|\n",
            "|97433544| 6.5| 7.5|5.5|   7|     7|   6|    8| 7.5|  6.5|7.5|     1|   1|    0|\n",
            "|97942429|   7| 6.5|8.5| 8.5|     8|   8|    8| 8.5|    8|8.5|     1|   1|    0|\n",
            "|98375723| 6.5|   5|  8|   6|     7| 6.5|  7.5| 7.5|  6.5|6.5|     1|   1|    1|\n",
            "|98495949| 8.5| 7.5|  8|   9|   8.5| 8.5|    9|   9|  8.5|  8|     0|   0|    1|\n",
            "|99042838| 6.5|   6|5.0| 5.5|   5.5| 5.5|    7| 5.5|  5.5|  5|     1|   0|    1|\n",
            "|99364682| 7.5| 7.5|  6| 6.5|     7|   7|    8| 7.5|    6|  8|     1|   0|    1|\n",
            "|99644684| 8.5| 6.5|9.5|10.0|   7.5| 7.5|  8.0| 8.0|  8.5|8.5|     1|   0|    0|\n",
            "|99782618|   9|   7|  7| 7.0|   5.5| 7.0|  8.0| 9.0|  9.5|9.5|     0|   0|    0|\n",
            "+--------+----+----+---+----+------+----+-----+----+-----+---+------+----+-----+\n",
            "\n"
          ]
        }
      ],
      "source": [
        "ndf.show(359)"
      ]
    },
    {
      "cell_type": "code",
      "execution_count": 70,
      "metadata": {
        "id": "sbWVf9A3KX9V"
      },
      "outputs": [],
      "source": [
        "ndf.write.csv('input.csv', header = True)"
      ]
    }
  ],
  "metadata": {
    "colab": {
      "name": "Untitled0.ipynb",
      "provenance": []
    },
    "kernelspec": {
      "display_name": "Python 3",
      "name": "python3"
    },
    "language_info": {
      "name": "python"
    }
  },
  "nbformat": 4,
  "nbformat_minor": 0
}
